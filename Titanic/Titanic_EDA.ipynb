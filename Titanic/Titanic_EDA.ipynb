{
  "nbformat": 4,
  "nbformat_minor": 0,
  "metadata": {
    "colab": {
      "name": "Titanic_EDA.ipynb",
      "provenance": [],
      "collapsed_sections": [
        "LQT1MF8Miub9",
        "f-IMmi2m3pQJ",
        "0NfxnuCz54mL",
        "r-5yySTjogJ-",
        "0ZSeC-31MPEt",
        "PGfhHPNhR5-P",
        "4fbrXCNQZjsF",
        "lEiYtOeBcJYV",
        "uH4w-l93ehAr",
        "FQrOGBKTewGy",
        "b0Sumansxvbj",
        "syUM3ptHx2tk",
        "0m0JfBgC8lkc",
        "dqIXDvPNGi6o"
      ],
      "include_colab_link": true
    },
    "kernelspec": {
      "name": "python3",
      "display_name": "Python 3"
    },
    "language_info": {
      "name": "python"
    }
  },
  "cells": [
    {
      "cell_type": "markdown",
      "metadata": {
        "id": "view-in-github",
        "colab_type": "text"
      },
      "source": [
        "<a href=\"https://colab.research.google.com/github/Pramod-N/DS-Learning/blob/main/Titanic/Titanic_EDA.ipynb\" target=\"_parent\"><img src=\"https://colab.research.google.com/assets/colab-badge.svg\" alt=\"Open In Colab\"/></a>"
      ]
    },
    {
      "cell_type": "code",
      "execution_count": null,
      "metadata": {
        "id": "v4JUrB4UyYkP"
      },
      "outputs": [],
      "source": [
        "import pandas as pd\n",
        "import matplotlib.pyplot as plt\n",
        "import seaborn as sns\n",
        "import numpy as np\n",
        "from scipy import stats\n",
        "from sklearn.impute import KNNImputer\n",
        "from scipy.stats import kstest"
      ]
    },
    {
      "cell_type": "code",
      "source": [
        "#load dataset\n",
        "titanic = sns.load_dataset(\"titanic\")"
      ],
      "metadata": {
        "id": "vVIVk_Zods2m"
      },
      "execution_count": null,
      "outputs": []
    },
    {
      "cell_type": "code",
      "source": [
        "stat_score = []\n",
        "def create_list(key,value):\n",
        "    obj = {key:value}\n",
        "    stat_score.append(obj)"
      ],
      "metadata": {
        "id": "CAWfleAXaSNR"
      },
      "execution_count": null,
      "outputs": []
    },
    {
      "cell_type": "markdown",
      "source": [
        "## Basic Analysis"
      ],
      "metadata": {
        "id": "96Ahv3_sdo_x"
      }
    },
    {
      "cell_type": "code",
      "source": [
        "titanic.describe(include=\"all\")"
      ],
      "metadata": {
        "colab": {
          "base_uri": "https://localhost:8080/",
          "height": 394
        },
        "id": "Zqpd5ZVbbkjl",
        "outputId": "4fd2c5e1-3f93-4849-982b-734c76ecc87a"
      },
      "execution_count": null,
      "outputs": [
        {
          "output_type": "execute_result",
          "data": {
            "text/plain": [
              "          survived      pclass   sex         age       sibsp       parch  \\\n",
              "count   891.000000  891.000000   891  714.000000  891.000000  891.000000   \n",
              "unique         NaN         NaN     2         NaN         NaN         NaN   \n",
              "top            NaN         NaN  male         NaN         NaN         NaN   \n",
              "freq           NaN         NaN   577         NaN         NaN         NaN   \n",
              "mean      0.383838    2.308642   NaN   29.699118    0.523008    0.381594   \n",
              "std       0.486592    0.836071   NaN   14.526497    1.102743    0.806057   \n",
              "min       0.000000    1.000000   NaN    0.420000    0.000000    0.000000   \n",
              "25%       0.000000    2.000000   NaN   20.125000    0.000000    0.000000   \n",
              "50%       0.000000    3.000000   NaN   28.000000    0.000000    0.000000   \n",
              "75%       1.000000    3.000000   NaN   38.000000    1.000000    0.000000   \n",
              "max       1.000000    3.000000   NaN   80.000000    8.000000    6.000000   \n",
              "\n",
              "              fare embarked  class  who adult_male deck  embark_town alive  \\\n",
              "count   891.000000      889    891  891        891  203          889   891   \n",
              "unique         NaN        3      3    3          2    7            3     2   \n",
              "top            NaN        S  Third  man       True    C  Southampton    no   \n",
              "freq           NaN      644    491  537        537   59          644   549   \n",
              "mean     32.204208      NaN    NaN  NaN        NaN  NaN          NaN   NaN   \n",
              "std      49.693429      NaN    NaN  NaN        NaN  NaN          NaN   NaN   \n",
              "min       0.000000      NaN    NaN  NaN        NaN  NaN          NaN   NaN   \n",
              "25%       7.910400      NaN    NaN  NaN        NaN  NaN          NaN   NaN   \n",
              "50%      14.454200      NaN    NaN  NaN        NaN  NaN          NaN   NaN   \n",
              "75%      31.000000      NaN    NaN  NaN        NaN  NaN          NaN   NaN   \n",
              "max     512.329200      NaN    NaN  NaN        NaN  NaN          NaN   NaN   \n",
              "\n",
              "       alone  \n",
              "count    891  \n",
              "unique     2  \n",
              "top     True  \n",
              "freq     537  \n",
              "mean     NaN  \n",
              "std      NaN  \n",
              "min      NaN  \n",
              "25%      NaN  \n",
              "50%      NaN  \n",
              "75%      NaN  \n",
              "max      NaN  "
            ],
            "text/html": [
              "\n",
              "  <div id=\"df-357a22d7-f20d-4dc8-9e3b-6a97bee6edf7\">\n",
              "    <div class=\"colab-df-container\">\n",
              "      <div>\n",
              "<style scoped>\n",
              "    .dataframe tbody tr th:only-of-type {\n",
              "        vertical-align: middle;\n",
              "    }\n",
              "\n",
              "    .dataframe tbody tr th {\n",
              "        vertical-align: top;\n",
              "    }\n",
              "\n",
              "    .dataframe thead th {\n",
              "        text-align: right;\n",
              "    }\n",
              "</style>\n",
              "<table border=\"1\" class=\"dataframe\">\n",
              "  <thead>\n",
              "    <tr style=\"text-align: right;\">\n",
              "      <th></th>\n",
              "      <th>survived</th>\n",
              "      <th>pclass</th>\n",
              "      <th>sex</th>\n",
              "      <th>age</th>\n",
              "      <th>sibsp</th>\n",
              "      <th>parch</th>\n",
              "      <th>fare</th>\n",
              "      <th>embarked</th>\n",
              "      <th>class</th>\n",
              "      <th>who</th>\n",
              "      <th>adult_male</th>\n",
              "      <th>deck</th>\n",
              "      <th>embark_town</th>\n",
              "      <th>alive</th>\n",
              "      <th>alone</th>\n",
              "    </tr>\n",
              "  </thead>\n",
              "  <tbody>\n",
              "    <tr>\n",
              "      <th>count</th>\n",
              "      <td>891.000000</td>\n",
              "      <td>891.000000</td>\n",
              "      <td>891</td>\n",
              "      <td>714.000000</td>\n",
              "      <td>891.000000</td>\n",
              "      <td>891.000000</td>\n",
              "      <td>891.000000</td>\n",
              "      <td>889</td>\n",
              "      <td>891</td>\n",
              "      <td>891</td>\n",
              "      <td>891</td>\n",
              "      <td>203</td>\n",
              "      <td>889</td>\n",
              "      <td>891</td>\n",
              "      <td>891</td>\n",
              "    </tr>\n",
              "    <tr>\n",
              "      <th>unique</th>\n",
              "      <td>NaN</td>\n",
              "      <td>NaN</td>\n",
              "      <td>2</td>\n",
              "      <td>NaN</td>\n",
              "      <td>NaN</td>\n",
              "      <td>NaN</td>\n",
              "      <td>NaN</td>\n",
              "      <td>3</td>\n",
              "      <td>3</td>\n",
              "      <td>3</td>\n",
              "      <td>2</td>\n",
              "      <td>7</td>\n",
              "      <td>3</td>\n",
              "      <td>2</td>\n",
              "      <td>2</td>\n",
              "    </tr>\n",
              "    <tr>\n",
              "      <th>top</th>\n",
              "      <td>NaN</td>\n",
              "      <td>NaN</td>\n",
              "      <td>male</td>\n",
              "      <td>NaN</td>\n",
              "      <td>NaN</td>\n",
              "      <td>NaN</td>\n",
              "      <td>NaN</td>\n",
              "      <td>S</td>\n",
              "      <td>Third</td>\n",
              "      <td>man</td>\n",
              "      <td>True</td>\n",
              "      <td>C</td>\n",
              "      <td>Southampton</td>\n",
              "      <td>no</td>\n",
              "      <td>True</td>\n",
              "    </tr>\n",
              "    <tr>\n",
              "      <th>freq</th>\n",
              "      <td>NaN</td>\n",
              "      <td>NaN</td>\n",
              "      <td>577</td>\n",
              "      <td>NaN</td>\n",
              "      <td>NaN</td>\n",
              "      <td>NaN</td>\n",
              "      <td>NaN</td>\n",
              "      <td>644</td>\n",
              "      <td>491</td>\n",
              "      <td>537</td>\n",
              "      <td>537</td>\n",
              "      <td>59</td>\n",
              "      <td>644</td>\n",
              "      <td>549</td>\n",
              "      <td>537</td>\n",
              "    </tr>\n",
              "    <tr>\n",
              "      <th>mean</th>\n",
              "      <td>0.383838</td>\n",
              "      <td>2.308642</td>\n",
              "      <td>NaN</td>\n",
              "      <td>29.699118</td>\n",
              "      <td>0.523008</td>\n",
              "      <td>0.381594</td>\n",
              "      <td>32.204208</td>\n",
              "      <td>NaN</td>\n",
              "      <td>NaN</td>\n",
              "      <td>NaN</td>\n",
              "      <td>NaN</td>\n",
              "      <td>NaN</td>\n",
              "      <td>NaN</td>\n",
              "      <td>NaN</td>\n",
              "      <td>NaN</td>\n",
              "    </tr>\n",
              "    <tr>\n",
              "      <th>std</th>\n",
              "      <td>0.486592</td>\n",
              "      <td>0.836071</td>\n",
              "      <td>NaN</td>\n",
              "      <td>14.526497</td>\n",
              "      <td>1.102743</td>\n",
              "      <td>0.806057</td>\n",
              "      <td>49.693429</td>\n",
              "      <td>NaN</td>\n",
              "      <td>NaN</td>\n",
              "      <td>NaN</td>\n",
              "      <td>NaN</td>\n",
              "      <td>NaN</td>\n",
              "      <td>NaN</td>\n",
              "      <td>NaN</td>\n",
              "      <td>NaN</td>\n",
              "    </tr>\n",
              "    <tr>\n",
              "      <th>min</th>\n",
              "      <td>0.000000</td>\n",
              "      <td>1.000000</td>\n",
              "      <td>NaN</td>\n",
              "      <td>0.420000</td>\n",
              "      <td>0.000000</td>\n",
              "      <td>0.000000</td>\n",
              "      <td>0.000000</td>\n",
              "      <td>NaN</td>\n",
              "      <td>NaN</td>\n",
              "      <td>NaN</td>\n",
              "      <td>NaN</td>\n",
              "      <td>NaN</td>\n",
              "      <td>NaN</td>\n",
              "      <td>NaN</td>\n",
              "      <td>NaN</td>\n",
              "    </tr>\n",
              "    <tr>\n",
              "      <th>25%</th>\n",
              "      <td>0.000000</td>\n",
              "      <td>2.000000</td>\n",
              "      <td>NaN</td>\n",
              "      <td>20.125000</td>\n",
              "      <td>0.000000</td>\n",
              "      <td>0.000000</td>\n",
              "      <td>7.910400</td>\n",
              "      <td>NaN</td>\n",
              "      <td>NaN</td>\n",
              "      <td>NaN</td>\n",
              "      <td>NaN</td>\n",
              "      <td>NaN</td>\n",
              "      <td>NaN</td>\n",
              "      <td>NaN</td>\n",
              "      <td>NaN</td>\n",
              "    </tr>\n",
              "    <tr>\n",
              "      <th>50%</th>\n",
              "      <td>0.000000</td>\n",
              "      <td>3.000000</td>\n",
              "      <td>NaN</td>\n",
              "      <td>28.000000</td>\n",
              "      <td>0.000000</td>\n",
              "      <td>0.000000</td>\n",
              "      <td>14.454200</td>\n",
              "      <td>NaN</td>\n",
              "      <td>NaN</td>\n",
              "      <td>NaN</td>\n",
              "      <td>NaN</td>\n",
              "      <td>NaN</td>\n",
              "      <td>NaN</td>\n",
              "      <td>NaN</td>\n",
              "      <td>NaN</td>\n",
              "    </tr>\n",
              "    <tr>\n",
              "      <th>75%</th>\n",
              "      <td>1.000000</td>\n",
              "      <td>3.000000</td>\n",
              "      <td>NaN</td>\n",
              "      <td>38.000000</td>\n",
              "      <td>1.000000</td>\n",
              "      <td>0.000000</td>\n",
              "      <td>31.000000</td>\n",
              "      <td>NaN</td>\n",
              "      <td>NaN</td>\n",
              "      <td>NaN</td>\n",
              "      <td>NaN</td>\n",
              "      <td>NaN</td>\n",
              "      <td>NaN</td>\n",
              "      <td>NaN</td>\n",
              "      <td>NaN</td>\n",
              "    </tr>\n",
              "    <tr>\n",
              "      <th>max</th>\n",
              "      <td>1.000000</td>\n",
              "      <td>3.000000</td>\n",
              "      <td>NaN</td>\n",
              "      <td>80.000000</td>\n",
              "      <td>8.000000</td>\n",
              "      <td>6.000000</td>\n",
              "      <td>512.329200</td>\n",
              "      <td>NaN</td>\n",
              "      <td>NaN</td>\n",
              "      <td>NaN</td>\n",
              "      <td>NaN</td>\n",
              "      <td>NaN</td>\n",
              "      <td>NaN</td>\n",
              "      <td>NaN</td>\n",
              "      <td>NaN</td>\n",
              "    </tr>\n",
              "  </tbody>\n",
              "</table>\n",
              "</div>\n",
              "      <button class=\"colab-df-convert\" onclick=\"convertToInteractive('df-357a22d7-f20d-4dc8-9e3b-6a97bee6edf7')\"\n",
              "              title=\"Convert this dataframe to an interactive table.\"\n",
              "              style=\"display:none;\">\n",
              "        \n",
              "  <svg xmlns=\"http://www.w3.org/2000/svg\" height=\"24px\"viewBox=\"0 0 24 24\"\n",
              "       width=\"24px\">\n",
              "    <path d=\"M0 0h24v24H0V0z\" fill=\"none\"/>\n",
              "    <path d=\"M18.56 5.44l.94 2.06.94-2.06 2.06-.94-2.06-.94-.94-2.06-.94 2.06-2.06.94zm-11 1L8.5 8.5l.94-2.06 2.06-.94-2.06-.94L8.5 2.5l-.94 2.06-2.06.94zm10 10l.94 2.06.94-2.06 2.06-.94-2.06-.94-.94-2.06-.94 2.06-2.06.94z\"/><path d=\"M17.41 7.96l-1.37-1.37c-.4-.4-.92-.59-1.43-.59-.52 0-1.04.2-1.43.59L10.3 9.45l-7.72 7.72c-.78.78-.78 2.05 0 2.83L4 21.41c.39.39.9.59 1.41.59.51 0 1.02-.2 1.41-.59l7.78-7.78 2.81-2.81c.8-.78.8-2.07 0-2.86zM5.41 20L4 18.59l7.72-7.72 1.47 1.35L5.41 20z\"/>\n",
              "  </svg>\n",
              "      </button>\n",
              "      \n",
              "  <style>\n",
              "    .colab-df-container {\n",
              "      display:flex;\n",
              "      flex-wrap:wrap;\n",
              "      gap: 12px;\n",
              "    }\n",
              "\n",
              "    .colab-df-convert {\n",
              "      background-color: #E8F0FE;\n",
              "      border: none;\n",
              "      border-radius: 50%;\n",
              "      cursor: pointer;\n",
              "      display: none;\n",
              "      fill: #1967D2;\n",
              "      height: 32px;\n",
              "      padding: 0 0 0 0;\n",
              "      width: 32px;\n",
              "    }\n",
              "\n",
              "    .colab-df-convert:hover {\n",
              "      background-color: #E2EBFA;\n",
              "      box-shadow: 0px 1px 2px rgba(60, 64, 67, 0.3), 0px 1px 3px 1px rgba(60, 64, 67, 0.15);\n",
              "      fill: #174EA6;\n",
              "    }\n",
              "\n",
              "    [theme=dark] .colab-df-convert {\n",
              "      background-color: #3B4455;\n",
              "      fill: #D2E3FC;\n",
              "    }\n",
              "\n",
              "    [theme=dark] .colab-df-convert:hover {\n",
              "      background-color: #434B5C;\n",
              "      box-shadow: 0px 1px 3px 1px rgba(0, 0, 0, 0.15);\n",
              "      filter: drop-shadow(0px 1px 2px rgba(0, 0, 0, 0.3));\n",
              "      fill: #FFFFFF;\n",
              "    }\n",
              "  </style>\n",
              "\n",
              "      <script>\n",
              "        const buttonEl =\n",
              "          document.querySelector('#df-357a22d7-f20d-4dc8-9e3b-6a97bee6edf7 button.colab-df-convert');\n",
              "        buttonEl.style.display =\n",
              "          google.colab.kernel.accessAllowed ? 'block' : 'none';\n",
              "\n",
              "        async function convertToInteractive(key) {\n",
              "          const element = document.querySelector('#df-357a22d7-f20d-4dc8-9e3b-6a97bee6edf7');\n",
              "          const dataTable =\n",
              "            await google.colab.kernel.invokeFunction('convertToInteractive',\n",
              "                                                     [key], {});\n",
              "          if (!dataTable) return;\n",
              "\n",
              "          const docLinkHtml = 'Like what you see? Visit the ' +\n",
              "            '<a target=\"_blank\" href=https://colab.research.google.com/notebooks/data_table.ipynb>data table notebook</a>'\n",
              "            + ' to learn more about interactive tables.';\n",
              "          element.innerHTML = '';\n",
              "          dataTable['output_type'] = 'display_data';\n",
              "          await google.colab.output.renderOutput(dataTable, element);\n",
              "          const docLink = document.createElement('div');\n",
              "          docLink.innerHTML = docLinkHtml;\n",
              "          element.appendChild(docLink);\n",
              "        }\n",
              "      </script>\n",
              "    </div>\n",
              "  </div>\n",
              "  "
            ]
          },
          "metadata": {},
          "execution_count": 4
        }
      ]
    },
    {
      "cell_type": "code",
      "source": [
        "print(\"Percentage of null values in each feature:\")\n",
        "(titanic.isna().sum()/titanic.shape[0])*100"
      ],
      "metadata": {
        "colab": {
          "base_uri": "https://localhost:8080/"
        },
        "id": "OLSCLj5VzrEC",
        "outputId": "de169221-8230-45a4-9e86-27db8bef76ef"
      },
      "execution_count": null,
      "outputs": [
        {
          "output_type": "stream",
          "name": "stdout",
          "text": [
            "Percentage of null values in each feature:\n"
          ]
        },
        {
          "output_type": "execute_result",
          "data": {
            "text/plain": [
              "survived        0.000000\n",
              "pclass          0.000000\n",
              "sex             0.000000\n",
              "age            19.865320\n",
              "sibsp           0.000000\n",
              "parch           0.000000\n",
              "fare            0.000000\n",
              "embarked        0.224467\n",
              "class           0.000000\n",
              "who             0.000000\n",
              "adult_male      0.000000\n",
              "deck           77.216611\n",
              "embark_town     0.224467\n",
              "alive           0.000000\n",
              "alone           0.000000\n",
              "dtype: float64"
            ]
          },
          "metadata": {},
          "execution_count": 5
        }
      ]
    },
    {
      "cell_type": "markdown",
      "source": [
        "**Observations-**\n",
        "\n",
        "1. Numerical Features - age, fare. \n",
        "2. Categorical features - other features.\n",
        "3. age has ~20% null values.\n",
        "4. Numerical features have higher variance. \n",
        "5. pclass,embarked,survived seems similar/same to class,embark_town,alive another respectively. \n",
        "6. Most passengers where alone.\n",
        "7. most people were men.\n",
        "8. Most of them died.\n",
        "9. deck has ~80% of null values. Safely assume to be dropped."
      ],
      "metadata": {
        "id": "c6AOVDcjeBNQ"
      }
    },
    {
      "cell_type": "markdown",
      "source": [
        "### Missing Value"
      ],
      "metadata": {
        "id": "7NGjx1KelonO"
      }
    },
    {
      "cell_type": "code",
      "source": [
        "titanic[\"embarked\"].value_counts()"
      ],
      "metadata": {
        "colab": {
          "base_uri": "https://localhost:8080/"
        },
        "id": "Jd81EtHNlq-B",
        "outputId": "7d259a85-2775-48b2-b517-9f96db99baa9"
      },
      "execution_count": null,
      "outputs": [
        {
          "output_type": "execute_result",
          "data": {
            "text/plain": [
              "S    644\n",
              "C    168\n",
              "Q     77\n",
              "Name: embarked, dtype: int64"
            ]
          },
          "metadata": {},
          "execution_count": 6
        }
      ]
    },
    {
      "cell_type": "code",
      "source": [
        "titanic[\"embarked\"].fillna(\"S\",inplace=True)"
      ],
      "metadata": {
        "id": "8guh6bfrmLoa"
      },
      "execution_count": null,
      "outputs": []
    },
    {
      "cell_type": "markdown",
      "source": [
        "### Duplicate Values"
      ],
      "metadata": {
        "id": "C-S4q68qmdqI"
      }
    },
    {
      "cell_type": "code",
      "source": [
        "titanic[\"embarked\"] = titanic[\"embarked\"].astype(str)\n",
        "\n",
        "titanic[\"embark_town\"] = titanic[\"embark_town\"].astype(str)"
      ],
      "metadata": {
        "id": "mCQM9ijgl29g"
      },
      "execution_count": null,
      "outputs": []
    },
    {
      "cell_type": "code",
      "source": [
        "print(\"print unique values - Survived\",np.unique(titanic[\"survived\"]))\n",
        "print(\"print unique values - alive\",np.unique(titanic[\"alive\"]))\n",
        "\n",
        "print(\"print unique values - PClass\",np.unique(titanic[\"pclass\"]))\n",
        "print(\"print unique values - Class\",np.unique(titanic[\"class\"]))\n",
        "\n",
        "print(\"print unique values - Embarked\",np.unique(titanic[\"embarked\"]))\n",
        "print(\"print unique values - Embarked town\",np.unique(titanic[\"embark_town\"]))"
      ],
      "metadata": {
        "colab": {
          "base_uri": "https://localhost:8080/"
        },
        "id": "CwlCmFLng0f7",
        "outputId": "d84dbccc-8d24-4875-d4d1-7b89a8a0ffaa"
      },
      "execution_count": null,
      "outputs": [
        {
          "output_type": "stream",
          "name": "stdout",
          "text": [
            "print unique values - Survived [0 1]\n",
            "print unique values - alive ['no' 'yes']\n",
            "print unique values - PClass [1 2 3]\n",
            "print unique values - Class ['First' 'Second' 'Third']\n",
            "print unique values - Embarked ['C' 'Q' 'S']\n",
            "print unique values - Embarked town ['Cherbourg' 'Queenstown' 'Southampton' 'nan']\n"
          ]
        }
      ]
    },
    {
      "cell_type": "code",
      "source": [
        "#Proving if point 5 is true. \n",
        "conversation_names = {\n",
        "    'alive': {'no':0, 'yes':1},\n",
        "    'class': {'First': 1, 'Second': 2,'Third': 3},\n",
        "    'embark_town': {'Cherbourg': 'C','Queenstown':'Q','Southampton':'S'}\n",
        "}\n",
        "\n",
        "titanic[\"embarked\"] = titanic[\"embarked\"].astype(object)\n",
        "\n",
        "titanic[\"embark_town\"] = titanic[\"embark_town\"].astype(object)\n",
        "titanic.replace(conversation_names,inplace=True)"
      ],
      "metadata": {
        "id": "G7VwsoJ7fgUB"
      },
      "execution_count": null,
      "outputs": []
    },
    {
      "cell_type": "code",
      "source": [
        "print(\"Alive v/s Survived are they equal:\",titanic[\"alive\"].equals(titanic[\"survived\"]))\n",
        "print(\"class v/s PClass are they equal:\",titanic[\"class\"].equals(titanic[\"pclass\"]))\n",
        "print(\"embark_town v/s embarked are they equal:\",titanic[\"embark_town\"].equals(titanic[\"embarked\"]))"
      ],
      "metadata": {
        "colab": {
          "base_uri": "https://localhost:8080/"
        },
        "id": "Bex-AaOWpgMF",
        "outputId": "2adb7c3e-b9b6-4c6a-e257-67b1c0ced1ae"
      },
      "execution_count": null,
      "outputs": [
        {
          "output_type": "stream",
          "name": "stdout",
          "text": [
            "Alive v/s Survived are they equal: True\n",
            "class v/s PClass are they equal: True\n",
            "embark_town v/s embarked are they equal: False\n"
          ]
        }
      ]
    },
    {
      "cell_type": "markdown",
      "source": [
        "So our initial analysis was right, these features are same and so one of them can be dropped. "
      ],
      "metadata": {
        "id": "A4abL6j_qg-a"
      }
    },
    {
      "cell_type": "code",
      "source": [
        "titanic.drop([\"alive\",\"class\",\"embark_town\",\"deck\"],inplace=True,axis=1)"
      ],
      "metadata": {
        "id": "E5AdsL7crIyF"
      },
      "execution_count": null,
      "outputs": []
    },
    {
      "cell_type": "code",
      "source": [
        "print(\"shape of data:\",titanic.shape)\n",
        "titanic.describe(include=\"all\")"
      ],
      "metadata": {
        "colab": {
          "base_uri": "https://localhost:8080/",
          "height": 412
        },
        "id": "tubkFVhorgYj",
        "outputId": "8ac6f7df-5953-4793-dc57-61f4dd7af992"
      },
      "execution_count": null,
      "outputs": [
        {
          "output_type": "stream",
          "name": "stdout",
          "text": [
            "shape of data: (891, 11)\n"
          ]
        },
        {
          "output_type": "execute_result",
          "data": {
            "text/plain": [
              "          survived      pclass   sex         age       sibsp       parch  \\\n",
              "count   891.000000  891.000000   891  714.000000  891.000000  891.000000   \n",
              "unique         NaN         NaN     2         NaN         NaN         NaN   \n",
              "top            NaN         NaN  male         NaN         NaN         NaN   \n",
              "freq           NaN         NaN   577         NaN         NaN         NaN   \n",
              "mean      0.383838    2.308642   NaN   29.699118    0.523008    0.381594   \n",
              "std       0.486592    0.836071   NaN   14.526497    1.102743    0.806057   \n",
              "min       0.000000    1.000000   NaN    0.420000    0.000000    0.000000   \n",
              "25%       0.000000    2.000000   NaN   20.125000    0.000000    0.000000   \n",
              "50%       0.000000    3.000000   NaN   28.000000    0.000000    0.000000   \n",
              "75%       1.000000    3.000000   NaN   38.000000    1.000000    0.000000   \n",
              "max       1.000000    3.000000   NaN   80.000000    8.000000    6.000000   \n",
              "\n",
              "              fare embarked  who adult_male alone  \n",
              "count   891.000000      891  891        891   891  \n",
              "unique         NaN        3    3          2     2  \n",
              "top            NaN        S  man       True  True  \n",
              "freq           NaN      646  537        537   537  \n",
              "mean     32.204208      NaN  NaN        NaN   NaN  \n",
              "std      49.693429      NaN  NaN        NaN   NaN  \n",
              "min       0.000000      NaN  NaN        NaN   NaN  \n",
              "25%       7.910400      NaN  NaN        NaN   NaN  \n",
              "50%      14.454200      NaN  NaN        NaN   NaN  \n",
              "75%      31.000000      NaN  NaN        NaN   NaN  \n",
              "max     512.329200      NaN  NaN        NaN   NaN  "
            ],
            "text/html": [
              "\n",
              "  <div id=\"df-d238fce0-ff54-470e-98c0-2601bf006546\">\n",
              "    <div class=\"colab-df-container\">\n",
              "      <div>\n",
              "<style scoped>\n",
              "    .dataframe tbody tr th:only-of-type {\n",
              "        vertical-align: middle;\n",
              "    }\n",
              "\n",
              "    .dataframe tbody tr th {\n",
              "        vertical-align: top;\n",
              "    }\n",
              "\n",
              "    .dataframe thead th {\n",
              "        text-align: right;\n",
              "    }\n",
              "</style>\n",
              "<table border=\"1\" class=\"dataframe\">\n",
              "  <thead>\n",
              "    <tr style=\"text-align: right;\">\n",
              "      <th></th>\n",
              "      <th>survived</th>\n",
              "      <th>pclass</th>\n",
              "      <th>sex</th>\n",
              "      <th>age</th>\n",
              "      <th>sibsp</th>\n",
              "      <th>parch</th>\n",
              "      <th>fare</th>\n",
              "      <th>embarked</th>\n",
              "      <th>who</th>\n",
              "      <th>adult_male</th>\n",
              "      <th>alone</th>\n",
              "    </tr>\n",
              "  </thead>\n",
              "  <tbody>\n",
              "    <tr>\n",
              "      <th>count</th>\n",
              "      <td>891.000000</td>\n",
              "      <td>891.000000</td>\n",
              "      <td>891</td>\n",
              "      <td>714.000000</td>\n",
              "      <td>891.000000</td>\n",
              "      <td>891.000000</td>\n",
              "      <td>891.000000</td>\n",
              "      <td>891</td>\n",
              "      <td>891</td>\n",
              "      <td>891</td>\n",
              "      <td>891</td>\n",
              "    </tr>\n",
              "    <tr>\n",
              "      <th>unique</th>\n",
              "      <td>NaN</td>\n",
              "      <td>NaN</td>\n",
              "      <td>2</td>\n",
              "      <td>NaN</td>\n",
              "      <td>NaN</td>\n",
              "      <td>NaN</td>\n",
              "      <td>NaN</td>\n",
              "      <td>3</td>\n",
              "      <td>3</td>\n",
              "      <td>2</td>\n",
              "      <td>2</td>\n",
              "    </tr>\n",
              "    <tr>\n",
              "      <th>top</th>\n",
              "      <td>NaN</td>\n",
              "      <td>NaN</td>\n",
              "      <td>male</td>\n",
              "      <td>NaN</td>\n",
              "      <td>NaN</td>\n",
              "      <td>NaN</td>\n",
              "      <td>NaN</td>\n",
              "      <td>S</td>\n",
              "      <td>man</td>\n",
              "      <td>True</td>\n",
              "      <td>True</td>\n",
              "    </tr>\n",
              "    <tr>\n",
              "      <th>freq</th>\n",
              "      <td>NaN</td>\n",
              "      <td>NaN</td>\n",
              "      <td>577</td>\n",
              "      <td>NaN</td>\n",
              "      <td>NaN</td>\n",
              "      <td>NaN</td>\n",
              "      <td>NaN</td>\n",
              "      <td>646</td>\n",
              "      <td>537</td>\n",
              "      <td>537</td>\n",
              "      <td>537</td>\n",
              "    </tr>\n",
              "    <tr>\n",
              "      <th>mean</th>\n",
              "      <td>0.383838</td>\n",
              "      <td>2.308642</td>\n",
              "      <td>NaN</td>\n",
              "      <td>29.699118</td>\n",
              "      <td>0.523008</td>\n",
              "      <td>0.381594</td>\n",
              "      <td>32.204208</td>\n",
              "      <td>NaN</td>\n",
              "      <td>NaN</td>\n",
              "      <td>NaN</td>\n",
              "      <td>NaN</td>\n",
              "    </tr>\n",
              "    <tr>\n",
              "      <th>std</th>\n",
              "      <td>0.486592</td>\n",
              "      <td>0.836071</td>\n",
              "      <td>NaN</td>\n",
              "      <td>14.526497</td>\n",
              "      <td>1.102743</td>\n",
              "      <td>0.806057</td>\n",
              "      <td>49.693429</td>\n",
              "      <td>NaN</td>\n",
              "      <td>NaN</td>\n",
              "      <td>NaN</td>\n",
              "      <td>NaN</td>\n",
              "    </tr>\n",
              "    <tr>\n",
              "      <th>min</th>\n",
              "      <td>0.000000</td>\n",
              "      <td>1.000000</td>\n",
              "      <td>NaN</td>\n",
              "      <td>0.420000</td>\n",
              "      <td>0.000000</td>\n",
              "      <td>0.000000</td>\n",
              "      <td>0.000000</td>\n",
              "      <td>NaN</td>\n",
              "      <td>NaN</td>\n",
              "      <td>NaN</td>\n",
              "      <td>NaN</td>\n",
              "    </tr>\n",
              "    <tr>\n",
              "      <th>25%</th>\n",
              "      <td>0.000000</td>\n",
              "      <td>2.000000</td>\n",
              "      <td>NaN</td>\n",
              "      <td>20.125000</td>\n",
              "      <td>0.000000</td>\n",
              "      <td>0.000000</td>\n",
              "      <td>7.910400</td>\n",
              "      <td>NaN</td>\n",
              "      <td>NaN</td>\n",
              "      <td>NaN</td>\n",
              "      <td>NaN</td>\n",
              "    </tr>\n",
              "    <tr>\n",
              "      <th>50%</th>\n",
              "      <td>0.000000</td>\n",
              "      <td>3.000000</td>\n",
              "      <td>NaN</td>\n",
              "      <td>28.000000</td>\n",
              "      <td>0.000000</td>\n",
              "      <td>0.000000</td>\n",
              "      <td>14.454200</td>\n",
              "      <td>NaN</td>\n",
              "      <td>NaN</td>\n",
              "      <td>NaN</td>\n",
              "      <td>NaN</td>\n",
              "    </tr>\n",
              "    <tr>\n",
              "      <th>75%</th>\n",
              "      <td>1.000000</td>\n",
              "      <td>3.000000</td>\n",
              "      <td>NaN</td>\n",
              "      <td>38.000000</td>\n",
              "      <td>1.000000</td>\n",
              "      <td>0.000000</td>\n",
              "      <td>31.000000</td>\n",
              "      <td>NaN</td>\n",
              "      <td>NaN</td>\n",
              "      <td>NaN</td>\n",
              "      <td>NaN</td>\n",
              "    </tr>\n",
              "    <tr>\n",
              "      <th>max</th>\n",
              "      <td>1.000000</td>\n",
              "      <td>3.000000</td>\n",
              "      <td>NaN</td>\n",
              "      <td>80.000000</td>\n",
              "      <td>8.000000</td>\n",
              "      <td>6.000000</td>\n",
              "      <td>512.329200</td>\n",
              "      <td>NaN</td>\n",
              "      <td>NaN</td>\n",
              "      <td>NaN</td>\n",
              "      <td>NaN</td>\n",
              "    </tr>\n",
              "  </tbody>\n",
              "</table>\n",
              "</div>\n",
              "      <button class=\"colab-df-convert\" onclick=\"convertToInteractive('df-d238fce0-ff54-470e-98c0-2601bf006546')\"\n",
              "              title=\"Convert this dataframe to an interactive table.\"\n",
              "              style=\"display:none;\">\n",
              "        \n",
              "  <svg xmlns=\"http://www.w3.org/2000/svg\" height=\"24px\"viewBox=\"0 0 24 24\"\n",
              "       width=\"24px\">\n",
              "    <path d=\"M0 0h24v24H0V0z\" fill=\"none\"/>\n",
              "    <path d=\"M18.56 5.44l.94 2.06.94-2.06 2.06-.94-2.06-.94-.94-2.06-.94 2.06-2.06.94zm-11 1L8.5 8.5l.94-2.06 2.06-.94-2.06-.94L8.5 2.5l-.94 2.06-2.06.94zm10 10l.94 2.06.94-2.06 2.06-.94-2.06-.94-.94-2.06-.94 2.06-2.06.94z\"/><path d=\"M17.41 7.96l-1.37-1.37c-.4-.4-.92-.59-1.43-.59-.52 0-1.04.2-1.43.59L10.3 9.45l-7.72 7.72c-.78.78-.78 2.05 0 2.83L4 21.41c.39.39.9.59 1.41.59.51 0 1.02-.2 1.41-.59l7.78-7.78 2.81-2.81c.8-.78.8-2.07 0-2.86zM5.41 20L4 18.59l7.72-7.72 1.47 1.35L5.41 20z\"/>\n",
              "  </svg>\n",
              "      </button>\n",
              "      \n",
              "  <style>\n",
              "    .colab-df-container {\n",
              "      display:flex;\n",
              "      flex-wrap:wrap;\n",
              "      gap: 12px;\n",
              "    }\n",
              "\n",
              "    .colab-df-convert {\n",
              "      background-color: #E8F0FE;\n",
              "      border: none;\n",
              "      border-radius: 50%;\n",
              "      cursor: pointer;\n",
              "      display: none;\n",
              "      fill: #1967D2;\n",
              "      height: 32px;\n",
              "      padding: 0 0 0 0;\n",
              "      width: 32px;\n",
              "    }\n",
              "\n",
              "    .colab-df-convert:hover {\n",
              "      background-color: #E2EBFA;\n",
              "      box-shadow: 0px 1px 2px rgba(60, 64, 67, 0.3), 0px 1px 3px 1px rgba(60, 64, 67, 0.15);\n",
              "      fill: #174EA6;\n",
              "    }\n",
              "\n",
              "    [theme=dark] .colab-df-convert {\n",
              "      background-color: #3B4455;\n",
              "      fill: #D2E3FC;\n",
              "    }\n",
              "\n",
              "    [theme=dark] .colab-df-convert:hover {\n",
              "      background-color: #434B5C;\n",
              "      box-shadow: 0px 1px 3px 1px rgba(0, 0, 0, 0.15);\n",
              "      filter: drop-shadow(0px 1px 2px rgba(0, 0, 0, 0.3));\n",
              "      fill: #FFFFFF;\n",
              "    }\n",
              "  </style>\n",
              "\n",
              "      <script>\n",
              "        const buttonEl =\n",
              "          document.querySelector('#df-d238fce0-ff54-470e-98c0-2601bf006546 button.colab-df-convert');\n",
              "        buttonEl.style.display =\n",
              "          google.colab.kernel.accessAllowed ? 'block' : 'none';\n",
              "\n",
              "        async function convertToInteractive(key) {\n",
              "          const element = document.querySelector('#df-d238fce0-ff54-470e-98c0-2601bf006546');\n",
              "          const dataTable =\n",
              "            await google.colab.kernel.invokeFunction('convertToInteractive',\n",
              "                                                     [key], {});\n",
              "          if (!dataTable) return;\n",
              "\n",
              "          const docLinkHtml = 'Like what you see? Visit the ' +\n",
              "            '<a target=\"_blank\" href=https://colab.research.google.com/notebooks/data_table.ipynb>data table notebook</a>'\n",
              "            + ' to learn more about interactive tables.';\n",
              "          element.innerHTML = '';\n",
              "          dataTable['output_type'] = 'display_data';\n",
              "          await google.colab.output.renderOutput(dataTable, element);\n",
              "          const docLink = document.createElement('div');\n",
              "          docLink.innerHTML = docLinkHtml;\n",
              "          element.appendChild(docLink);\n",
              "        }\n",
              "      </script>\n",
              "    </div>\n",
              "  </div>\n",
              "  "
            ]
          },
          "metadata": {},
          "execution_count": 13
        }
      ]
    },
    {
      "cell_type": "code",
      "source": [
        "titanic.sample(10).head(5)"
      ],
      "metadata": {
        "colab": {
          "base_uri": "https://localhost:8080/",
          "height": 206
        },
        "id": "nrJ0GWbe0lXn",
        "outputId": "c79f8ef6-c083-414f-d15f-45ad9bc1767d"
      },
      "execution_count": null,
      "outputs": [
        {
          "output_type": "execute_result",
          "data": {
            "text/plain": [
              "     survived  pclass     sex   age  sibsp  parch     fare embarked    who  \\\n",
              "570         1       2    male  62.0      0      0  10.5000        S    man   \n",
              "474         0       3  female  22.0      0      0   9.8375        S  woman   \n",
              "836         0       3    male  21.0      0      0   8.6625        S    man   \n",
              "818         0       3    male  43.0      0      0   6.4500        S    man   \n",
              "713         0       3    male  29.0      0      0   9.4833        S    man   \n",
              "\n",
              "     adult_male  alone  \n",
              "570        True   True  \n",
              "474       False   True  \n",
              "836        True   True  \n",
              "818        True   True  \n",
              "713        True   True  "
            ],
            "text/html": [
              "\n",
              "  <div id=\"df-a56a3b4e-fcea-432a-a2bf-d2db5f5ebb2f\">\n",
              "    <div class=\"colab-df-container\">\n",
              "      <div>\n",
              "<style scoped>\n",
              "    .dataframe tbody tr th:only-of-type {\n",
              "        vertical-align: middle;\n",
              "    }\n",
              "\n",
              "    .dataframe tbody tr th {\n",
              "        vertical-align: top;\n",
              "    }\n",
              "\n",
              "    .dataframe thead th {\n",
              "        text-align: right;\n",
              "    }\n",
              "</style>\n",
              "<table border=\"1\" class=\"dataframe\">\n",
              "  <thead>\n",
              "    <tr style=\"text-align: right;\">\n",
              "      <th></th>\n",
              "      <th>survived</th>\n",
              "      <th>pclass</th>\n",
              "      <th>sex</th>\n",
              "      <th>age</th>\n",
              "      <th>sibsp</th>\n",
              "      <th>parch</th>\n",
              "      <th>fare</th>\n",
              "      <th>embarked</th>\n",
              "      <th>who</th>\n",
              "      <th>adult_male</th>\n",
              "      <th>alone</th>\n",
              "    </tr>\n",
              "  </thead>\n",
              "  <tbody>\n",
              "    <tr>\n",
              "      <th>570</th>\n",
              "      <td>1</td>\n",
              "      <td>2</td>\n",
              "      <td>male</td>\n",
              "      <td>62.0</td>\n",
              "      <td>0</td>\n",
              "      <td>0</td>\n",
              "      <td>10.5000</td>\n",
              "      <td>S</td>\n",
              "      <td>man</td>\n",
              "      <td>True</td>\n",
              "      <td>True</td>\n",
              "    </tr>\n",
              "    <tr>\n",
              "      <th>474</th>\n",
              "      <td>0</td>\n",
              "      <td>3</td>\n",
              "      <td>female</td>\n",
              "      <td>22.0</td>\n",
              "      <td>0</td>\n",
              "      <td>0</td>\n",
              "      <td>9.8375</td>\n",
              "      <td>S</td>\n",
              "      <td>woman</td>\n",
              "      <td>False</td>\n",
              "      <td>True</td>\n",
              "    </tr>\n",
              "    <tr>\n",
              "      <th>836</th>\n",
              "      <td>0</td>\n",
              "      <td>3</td>\n",
              "      <td>male</td>\n",
              "      <td>21.0</td>\n",
              "      <td>0</td>\n",
              "      <td>0</td>\n",
              "      <td>8.6625</td>\n",
              "      <td>S</td>\n",
              "      <td>man</td>\n",
              "      <td>True</td>\n",
              "      <td>True</td>\n",
              "    </tr>\n",
              "    <tr>\n",
              "      <th>818</th>\n",
              "      <td>0</td>\n",
              "      <td>3</td>\n",
              "      <td>male</td>\n",
              "      <td>43.0</td>\n",
              "      <td>0</td>\n",
              "      <td>0</td>\n",
              "      <td>6.4500</td>\n",
              "      <td>S</td>\n",
              "      <td>man</td>\n",
              "      <td>True</td>\n",
              "      <td>True</td>\n",
              "    </tr>\n",
              "    <tr>\n",
              "      <th>713</th>\n",
              "      <td>0</td>\n",
              "      <td>3</td>\n",
              "      <td>male</td>\n",
              "      <td>29.0</td>\n",
              "      <td>0</td>\n",
              "      <td>0</td>\n",
              "      <td>9.4833</td>\n",
              "      <td>S</td>\n",
              "      <td>man</td>\n",
              "      <td>True</td>\n",
              "      <td>True</td>\n",
              "    </tr>\n",
              "  </tbody>\n",
              "</table>\n",
              "</div>\n",
              "      <button class=\"colab-df-convert\" onclick=\"convertToInteractive('df-a56a3b4e-fcea-432a-a2bf-d2db5f5ebb2f')\"\n",
              "              title=\"Convert this dataframe to an interactive table.\"\n",
              "              style=\"display:none;\">\n",
              "        \n",
              "  <svg xmlns=\"http://www.w3.org/2000/svg\" height=\"24px\"viewBox=\"0 0 24 24\"\n",
              "       width=\"24px\">\n",
              "    <path d=\"M0 0h24v24H0V0z\" fill=\"none\"/>\n",
              "    <path d=\"M18.56 5.44l.94 2.06.94-2.06 2.06-.94-2.06-.94-.94-2.06-.94 2.06-2.06.94zm-11 1L8.5 8.5l.94-2.06 2.06-.94-2.06-.94L8.5 2.5l-.94 2.06-2.06.94zm10 10l.94 2.06.94-2.06 2.06-.94-2.06-.94-.94-2.06-.94 2.06-2.06.94z\"/><path d=\"M17.41 7.96l-1.37-1.37c-.4-.4-.92-.59-1.43-.59-.52 0-1.04.2-1.43.59L10.3 9.45l-7.72 7.72c-.78.78-.78 2.05 0 2.83L4 21.41c.39.39.9.59 1.41.59.51 0 1.02-.2 1.41-.59l7.78-7.78 2.81-2.81c.8-.78.8-2.07 0-2.86zM5.41 20L4 18.59l7.72-7.72 1.47 1.35L5.41 20z\"/>\n",
              "  </svg>\n",
              "      </button>\n",
              "      \n",
              "  <style>\n",
              "    .colab-df-container {\n",
              "      display:flex;\n",
              "      flex-wrap:wrap;\n",
              "      gap: 12px;\n",
              "    }\n",
              "\n",
              "    .colab-df-convert {\n",
              "      background-color: #E8F0FE;\n",
              "      border: none;\n",
              "      border-radius: 50%;\n",
              "      cursor: pointer;\n",
              "      display: none;\n",
              "      fill: #1967D2;\n",
              "      height: 32px;\n",
              "      padding: 0 0 0 0;\n",
              "      width: 32px;\n",
              "    }\n",
              "\n",
              "    .colab-df-convert:hover {\n",
              "      background-color: #E2EBFA;\n",
              "      box-shadow: 0px 1px 2px rgba(60, 64, 67, 0.3), 0px 1px 3px 1px rgba(60, 64, 67, 0.15);\n",
              "      fill: #174EA6;\n",
              "    }\n",
              "\n",
              "    [theme=dark] .colab-df-convert {\n",
              "      background-color: #3B4455;\n",
              "      fill: #D2E3FC;\n",
              "    }\n",
              "\n",
              "    [theme=dark] .colab-df-convert:hover {\n",
              "      background-color: #434B5C;\n",
              "      box-shadow: 0px 1px 3px 1px rgba(0, 0, 0, 0.15);\n",
              "      filter: drop-shadow(0px 1px 2px rgba(0, 0, 0, 0.3));\n",
              "      fill: #FFFFFF;\n",
              "    }\n",
              "  </style>\n",
              "\n",
              "      <script>\n",
              "        const buttonEl =\n",
              "          document.querySelector('#df-a56a3b4e-fcea-432a-a2bf-d2db5f5ebb2f button.colab-df-convert');\n",
              "        buttonEl.style.display =\n",
              "          google.colab.kernel.accessAllowed ? 'block' : 'none';\n",
              "\n",
              "        async function convertToInteractive(key) {\n",
              "          const element = document.querySelector('#df-a56a3b4e-fcea-432a-a2bf-d2db5f5ebb2f');\n",
              "          const dataTable =\n",
              "            await google.colab.kernel.invokeFunction('convertToInteractive',\n",
              "                                                     [key], {});\n",
              "          if (!dataTable) return;\n",
              "\n",
              "          const docLinkHtml = 'Like what you see? Visit the ' +\n",
              "            '<a target=\"_blank\" href=https://colab.research.google.com/notebooks/data_table.ipynb>data table notebook</a>'\n",
              "            + ' to learn more about interactive tables.';\n",
              "          element.innerHTML = '';\n",
              "          dataTable['output_type'] = 'display_data';\n",
              "          await google.colab.output.renderOutput(dataTable, element);\n",
              "          const docLink = document.createElement('div');\n",
              "          docLink.innerHTML = docLinkHtml;\n",
              "          element.appendChild(docLink);\n",
              "        }\n",
              "      </script>\n",
              "    </div>\n",
              "  </div>\n",
              "  "
            ]
          },
          "metadata": {},
          "execution_count": 14
        }
      ]
    },
    {
      "cell_type": "markdown",
      "source": [
        "**Observations-**\n",
        "\n",
        "1. Numerical Features - age and fare \n",
        "2. Categorical features - rest all features except target and numerical features.\n",
        "3. Target feature - survived"
      ],
      "metadata": {
        "id": "7jdxU_xAsweo"
      }
    },
    {
      "cell_type": "markdown",
      "source": [
        "## Numerical feature Analysis"
      ],
      "metadata": {
        "id": "VOEHevWpbe6Z"
      }
    },
    {
      "cell_type": "markdown",
      "source": [
        "This section handles the numerical feature analysis with hypothesis tests and handling null values for the numeric features. "
      ],
      "metadata": {
        "id": "aCPK0Gu3yUU2"
      }
    },
    {
      "cell_type": "markdown",
      "source": [
        "### Hypothesis tests"
      ],
      "metadata": {
        "id": "xa5PwOXMtmaR"
      }
    },
    {
      "cell_type": "code",
      "source": [
        "def levene_test(sample_a,sample_b):\n",
        "    '''\n",
        "    H0 - All the samples from the populations have equal variances.\n",
        "    H1 - samples from the population havr unequal variance\n",
        "    '''\n",
        "    stat,pvalue = stats.levene(sample_a,sample_b)\n",
        "\n",
        "    if pvalue <= 0.05:\n",
        "        return \"H1\"\n",
        "    else:\n",
        "        return \"H0\""
      ],
      "metadata": {
        "id": "R4-tdWvutyMJ"
      },
      "execution_count": null,
      "outputs": []
    },
    {
      "cell_type": "code",
      "source": [
        "def shapiro_test(sample):\n",
        "    '''\n",
        "    H0 - The sample from the populations follow normal distribution\n",
        "    H1 - The sample from the populations dont follow normal distribution\n",
        "    '''\n",
        "    stat,pvalue = stats.shapiro(sample)\n",
        "\n",
        "    if pvalue <= 0.05:\n",
        "        return \"H1\"\n",
        "    else:\n",
        "        return \"H0\""
      ],
      "metadata": {
        "id": "6aRRu6mOw7pB"
      },
      "execution_count": null,
      "outputs": []
    },
    {
      "cell_type": "code",
      "source": [
        "def mannwhitney_test(sample_a,sample_b):\n",
        "    '''\n",
        "    Mann-Whitney U Test - The samples are independent and tried to give a rank to the samples. The samples are combined together and given a rank. if for all observation, value v0<=v1, we reject null hypothesis.\n",
        "\n",
        "    H0 - Sample distributions are equal.\n",
        "    H1 - Sample distributions are not equal.\n",
        "\n",
        "    '''\n",
        "    stat,pvalue = stats.mannwhitneyu(sample_a,sample_b)\n",
        "\n",
        "    if pvalue <= 0.05:\n",
        "        return \"H1\"\n",
        "    else:\n",
        "        return \"H0\""
      ],
      "metadata": {
        "id": "uMz5WXaNxxr_"
      },
      "execution_count": null,
      "outputs": []
    },
    {
      "cell_type": "code",
      "source": [
        "def kruskalsWallis_test(sample_a,sample_b):\n",
        "    '''\n",
        "    kruskal-Wallis H Test - This shows if atleast one sample if different from the other. It does not indicate where and how many of these values differ.\n",
        "    H0 - All the samples from the populations have equal variances.\n",
        "    H1 - samples from the population havr unequal variance\n",
        "    '''\n",
        "    stat,pvalue = stats.kruskal(sample_a,sample_b)\n",
        "\n",
        "    if pvalue <= 0.05:\n",
        "        return stat,\"H1\"\n",
        "    else:\n",
        "        return stat,\"H0\""
      ],
      "metadata": {
        "id": "lf-VcQl0yI6o"
      },
      "execution_count": null,
      "outputs": []
    },
    {
      "cell_type": "code",
      "source": [
        "def wilcoxon_test(sample_a,sample_b,number_of_samples):\n",
        "    '''\n",
        "    Wilcoxon test - it does not assume the samples are independent.\n",
        "    H0 - All the samples from the populations have equal variances.\n",
        "    H1 - samples from the population havr unequal variance\n",
        "    '''\n",
        "    stat,pvalue = stats.wilcoxon(sample_a.sample(number_of_samples),sample_b.sample(number_of_samples))\n",
        "\n",
        "    if pvalue <= 0.05:\n",
        "        return \"H1\"\n",
        "    else:\n",
        "        return \"H0\""
      ],
      "metadata": {
        "id": "-vLPlZENyJdt"
      },
      "execution_count": null,
      "outputs": []
    },
    {
      "cell_type": "code",
      "source": [
        "def ks_test(feature,disttype):\n",
        "    ''' \n",
        "    Running the ks test (non parmateric test) to let us know, wheather the age dist follow the normal disb\n",
        "    H0: The disb is normally disb\n",
        "    H1: The disb is not normally disb\n",
        "    '''\n",
        "    ttest,pval=kstest(feature,disttype)\n",
        "\n",
        "    if pval<=0.05:\n",
        "        return \"H1\"\n",
        "    else:\n",
        "        return \"H0\"\n"
      ],
      "metadata": {
        "id": "9DET81tpdoel"
      },
      "execution_count": null,
      "outputs": []
    },
    {
      "cell_type": "markdown",
      "source": [
        "### Plots"
      ],
      "metadata": {
        "id": "joUjbpFT0hP7"
      }
    },
    {
      "cell_type": "code",
      "source": [
        "def distplots(sample,hist):\n",
        "    sns.distplot(sample,kde=True,hist=hist)\n",
        "    plt.grid()\n",
        "    plt.show()"
      ],
      "metadata": {
        "id": "uyGFlEV10j1b"
      },
      "execution_count": null,
      "outputs": []
    },
    {
      "cell_type": "code",
      "source": [
        "def scatterplots(sample_a,sample_b,hue):\n",
        "    sns.scatterplot(x=sample_a,y=sample_b,hue=hue)\n",
        "    plt.grid()\n",
        "    plt.show()"
      ],
      "metadata": {
        "id": "jgzmOQNB1GU8"
      },
      "execution_count": null,
      "outputs": []
    },
    {
      "cell_type": "code",
      "source": [
        "def boxplot(sample_a,sample_b,hue,data):\n",
        "    plt.figure(figsize=(15,10))\n",
        "    sns.boxplot(x=sample_a,y=sample_b,hue=hue,data=data)\n",
        "    plt.grid()\n",
        "    plt.show()"
      ],
      "metadata": {
        "id": "6HUjIl4OHB5B"
      },
      "execution_count": null,
      "outputs": []
    },
    {
      "cell_type": "markdown",
      "source": [
        "### knn Imputer"
      ],
      "metadata": {
        "id": "bAQqr1LmZBR9"
      }
    },
    {
      "cell_type": "code",
      "source": [
        "def knn_imputer(data,n_neighbors):\n",
        "    imputer = KNNImputer(n_neighbors=n_neighbors)\n",
        "    imputed_data = imputer.fit_transform(data)\n",
        "    df_temp = pd.DataFrame(imputed_data)\n",
        "    df_temp.columns = data.columns\n",
        "    return df_temp"
      ],
      "metadata": {
        "id": "t4EcE3rQZEyx"
      },
      "execution_count": null,
      "outputs": []
    },
    {
      "cell_type": "markdown",
      "source": [
        "### fare"
      ],
      "metadata": {
        "id": "siDZAyfUsrCA"
      }
    },
    {
      "cell_type": "code",
      "source": [
        "#Plot the distribution of fare\n",
        "(distplots(titanic[\"fare\"],True))\n",
        "(distplots(titanic[\"fare\"],False))"
      ],
      "metadata": {
        "colab": {
          "base_uri": "https://localhost:8080/",
          "height": 630
        },
        "id": "ldWuWBZ_bgi9",
        "outputId": "5752e126-076c-41cf-880c-0358d3694492"
      },
      "execution_count": null,
      "outputs": [
        {
          "output_type": "stream",
          "name": "stderr",
          "text": [
            "/usr/local/lib/python3.7/dist-packages/seaborn/distributions.py:2619: FutureWarning: `distplot` is a deprecated function and will be removed in a future version. Please adapt your code to use either `displot` (a figure-level function with similar flexibility) or `histplot` (an axes-level function for histograms).\n",
            "  warnings.warn(msg, FutureWarning)\n"
          ]
        },
        {
          "output_type": "display_data",
          "data": {
            "text/plain": [
              "<Figure size 432x288 with 1 Axes>"
            ],
            "image/png": "[encoded data removed]"
          },
          "metadata": {
            "needs_background": "light"
          }
        },
        {
          "output_type": "stream",
          "name": "stderr",
          "text": [
            "/usr/local/lib/python3.7/dist-packages/seaborn/distributions.py:2619: FutureWarning: `distplot` is a deprecated function and will be removed in a future version. Please adapt your code to use either `displot` (a figure-level function with similar flexibility) or `kdeplot` (an axes-level function for kernel density plots).\n",
            "  warnings.warn(msg, FutureWarning)\n"
          ]
        },
        {
          "output_type": "display_data",
          "data": {
            "text/plain": [
              "<Figure size 432x288 with 1 Axes>"
            ],
            "image/png": "[encoded data removed]"
          },
          "metadata": {
            "needs_background": "light"
          }
        }
      ]
    },
    {
      "cell_type": "markdown",
      "source": [
        "From the plot, The fare seems to follow right skewed distribution. Lets prove using some statistical tests or hypothesis test. "
      ],
      "metadata": {
        "id": "iwQRuKic_qxx"
      }
    },
    {
      "cell_type": "code",
      "source": [
        "#Plot the box plot\n",
        "boxplot('survived','fare','sex',titanic)"
      ],
      "metadata": {
        "colab": {
          "base_uri": "https://localhost:8080/",
          "height": 606
        },
        "id": "lrco5ZHuICa3",
        "outputId": "982d80be-2608-40a7-9390-2e9ef378f096"
      },
      "execution_count": null,
      "outputs": [
        {
          "output_type": "display_data",
          "data": {
            "text/plain": [
              "<Figure size 1080x720 with 1 Axes>"
            ],
            "image/png": "[encoded data removed]"
          },
          "metadata": {
            "needs_background": "light"
          }
        }
      ]
    },
    {
      "cell_type": "code",
      "source": [
        "alive = titanic[titanic[\"survived\"] == 1]\n",
        "dead = titanic[titanic[\"survived\"] == 0]"
      ],
      "metadata": {
        "id": "jujBkh_iAlLR"
      },
      "execution_count": null,
      "outputs": []
    },
    {
      "cell_type": "code",
      "source": [
        "reslevenetest = levene_test(alive[\"fare\"],dead[\"fare\"])\n",
        "print(\"Accepted Hypothesis:\",reslevenetest)"
      ],
      "metadata": {
        "colab": {
          "base_uri": "https://localhost:8080/"
        },
        "id": "F1jt75ycAQjD",
        "outputId": "46a485dc-5290-45eb-9499-214b367d3350"
      },
      "execution_count": null,
      "outputs": [
        {
          "output_type": "stream",
          "name": "stdout",
          "text": [
            "Accepted Hypothesis: H1\n"
          ]
        }
      ]
    },
    {
      "cell_type": "markdown",
      "source": [
        "This means that the the variance between the samples are different."
      ],
      "metadata": {
        "id": "q2_oYVRfCRGa"
      }
    },
    {
      "cell_type": "code",
      "source": [
        "resshapirotest = shapiro_test(alive[\"fare\"])\n",
        "print(\"Accepted Hypothesis for alive samples of fare:\",resshapirotest)\n",
        "\n",
        "resshapirotest = shapiro_test(dead[\"fare\"])\n",
        "print(\"Accepted Hypothesis for dead samples of fare:\",resshapirotest)"
      ],
      "metadata": {
        "colab": {
          "base_uri": "https://localhost:8080/"
        },
        "id": "54AYY14gB4iE",
        "outputId": "2606e93b-8342-4643-82ca-7379b88da006"
      },
      "execution_count": null,
      "outputs": [
        {
          "output_type": "stream",
          "name": "stdout",
          "text": [
            "Accepted Hypothesis for alive samples of fare: H1\n",
            "Accepted Hypothesis for dead samples of fare: H1\n"
          ]
        }
      ]
    },
    {
      "cell_type": "markdown",
      "source": [
        "This means that the fare does not follow normal distribution. \n",
        "So for further hypothesis testing we have to use non parametric tests. "
      ],
      "metadata": {
        "id": "RBM4G7J7DUBp"
      }
    },
    {
      "cell_type": "code",
      "source": [
        "s,reskruskalstest = kruskalsWallis_test(alive[\"fare\"],dead[\"fare\"])\n",
        "create_list('fare',s)\n",
        "print(\"Accepted Hypothesis:\",reskruskalstest)"
      ],
      "metadata": {
        "colab": {
          "base_uri": "https://localhost:8080/"
        },
        "id": "Vxu2Xo0BDqEa",
        "outputId": "21e90313-969f-4c2a-a47c-d403644b528b"
      },
      "execution_count": null,
      "outputs": [
        {
          "output_type": "stream",
          "name": "stdout",
          "text": [
            "Accepted Hypothesis: H1\n"
          ]
        }
      ]
    },
    {
      "cell_type": "code",
      "source": [
        "manwhitneytest = mannwhitney_test(alive[\"fare\"],dead[\"fare\"])\n",
        "print(\"Accepted Hypothesis:\",manwhitneytest)"
      ],
      "metadata": {
        "colab": {
          "base_uri": "https://localhost:8080/"
        },
        "id": "C3qyX-jWErRK",
        "outputId": "ce69874b-28bb-4d35-d7d7-308a8d8985f2"
      },
      "execution_count": null,
      "outputs": [
        {
          "output_type": "stream",
          "name": "stdout",
          "text": [
            "Accepted Hypothesis: H1\n"
          ]
        }
      ]
    },
    {
      "cell_type": "code",
      "source": [
        "wilcoxontest = wilcoxon_test(alive[\"fare\"],dead[\"fare\"],min(len(alive),len(dead)))\n",
        "\n",
        "print(\"Accepted Hypothesis:\",wilcoxontest)"
      ],
      "metadata": {
        "colab": {
          "base_uri": "https://localhost:8080/"
        },
        "id": "36i9aixUEs3_",
        "outputId": "865bc202-a949-469f-9a57-653023731b70"
      },
      "execution_count": null,
      "outputs": [
        {
          "output_type": "stream",
          "name": "stdout",
          "text": [
            "Accepted Hypothesis: H1\n"
          ]
        }
      ]
    },
    {
      "cell_type": "markdown",
      "source": [
        "The above non parametric tests lets us know that the fare has some kind of influence on the survivalability and it is statistically significant in determining the survivalability. "
      ],
      "metadata": {
        "id": "7dNWFi5vFXuO"
      }
    },
    {
      "cell_type": "markdown",
      "source": [
        "### Age"
      ],
      "metadata": {
        "id": "MsiGLOlqGD7i"
      }
    },
    {
      "cell_type": "code",
      "source": [
        "print(distplots(titanic[\"age\"],False))\n",
        "\n",
        "print(distplots(titanic[\"age\"],True))"
      ],
      "metadata": {
        "colab": {
          "base_uri": "https://localhost:8080/",
          "height": 665
        },
        "id": "5edKyRx2GT_w",
        "outputId": "35c436f7-74d6-4ec1-fcde-a2fb66bf27bf"
      },
      "execution_count": null,
      "outputs": [
        {
          "output_type": "stream",
          "name": "stderr",
          "text": [
            "/usr/local/lib/python3.7/dist-packages/seaborn/distributions.py:2619: FutureWarning: `distplot` is a deprecated function and will be removed in a future version. Please adapt your code to use either `displot` (a figure-level function with similar flexibility) or `kdeplot` (an axes-level function for kernel density plots).\n",
            "  warnings.warn(msg, FutureWarning)\n"
          ]
        },
        {
          "output_type": "display_data",
          "data": {
            "text/plain": [
              "<Figure size 432x288 with 1 Axes>"
            ],
            "image/png": "[encoded data removed]"
          },
          "metadata": {
            "needs_background": "light"
          }
        },
        {
          "output_type": "stream",
          "name": "stdout",
          "text": [
            "None\n"
          ]
        },
        {
          "output_type": "stream",
          "name": "stderr",
          "text": [
            "/usr/local/lib/python3.7/dist-packages/seaborn/distributions.py:2619: FutureWarning: `distplot` is a deprecated function and will be removed in a future version. Please adapt your code to use either `displot` (a figure-level function with similar flexibility) or `histplot` (an axes-level function for histograms).\n",
            "  warnings.warn(msg, FutureWarning)\n"
          ]
        },
        {
          "output_type": "display_data",
          "data": {
            "text/plain": [
              "<Figure size 432x288 with 1 Axes>"
            ],
            "image/png": "[encoded data removed]"
          },
          "metadata": {
            "needs_background": "light"
          }
        },
        {
          "output_type": "stream",
          "name": "stdout",
          "text": [
            "None\n"
          ]
        }
      ]
    },
    {
      "cell_type": "code",
      "source": [
        "conversation_names = {\n",
        "    'sex': {'female': 0, 'male':1},\n",
        "    'embarked': {'C':1,'Q':2,'S':3},\n",
        "    'who': {'child':2,'man':1,'woman':0},\n",
        "    'adult_male': {True:1, False:0},\n",
        "    'deck': {'A':1, 'B':2, 'C':3, 'D':4, 'E':5, 'F':6, 'G':7},\n",
        "    'alone': {True:1, False:0}\n",
        "}\n",
        "\n",
        "titanic.replace(conversation_names,inplace=True)"
      ],
      "metadata": {
        "id": "BROOh5VaiFCv"
      },
      "execution_count": null,
      "outputs": []
    },
    {
      "cell_type": "code",
      "source": [
        "print(f'''Since the age has around {titanic['age'].isna().sum()} missing values, the strategy herd is to impute the age column using kNN imputer with default parameter of 5''')\n",
        "\n",
        "titanic_ks_test=titanic.copy()\n",
        "\n",
        "df = knn_imputer(titanic_ks_test,5)\n",
        "titanic_ks_test['age'] = df['age']  # update only the desired column\n",
        "print('after the imputing the ages with KNN imputer, the remaining missing values in ages is:',titanic_ks_test['age'].isna().sum())"
      ],
      "metadata": {
        "colab": {
          "base_uri": "https://localhost:8080/"
        },
        "id": "vHzyC_UdDPFf",
        "outputId": "1d600950-eaf5-458b-b05e-ddf7cdab35fe"
      },
      "execution_count": null,
      "outputs": [
        {
          "output_type": "stream",
          "name": "stdout",
          "text": [
            "Since the age has around 177 missing values, the strategy herd is to impute the age column using kNN imputer with default parameter of 5\n",
            "after the imputing the ages with KNN imputer, the remaining missing values in ages is: 0\n"
          ]
        }
      ]
    },
    {
      "cell_type": "code",
      "source": [
        "reskstest = ks_test(titanic_ks_test[\"age\"],'norm')\n",
        "print(\"Accepted Hypothesis:\",reskstest)"
      ],
      "metadata": {
        "id": "dLx2cC56_6k-",
        "colab": {
          "base_uri": "https://localhost:8080/"
        },
        "outputId": "5511695c-2622-4a84-9e8b-30109c4c2b93"
      },
      "execution_count": null,
      "outputs": [
        {
          "output_type": "stream",
          "name": "stdout",
          "text": [
            "Accepted Hypothesis: H1\n"
          ]
        }
      ]
    },
    {
      "cell_type": "markdown",
      "source": [
        "From the distribution and ks statistic test  the age does not follow normal distribution. "
      ],
      "metadata": {
        "id": "-3kOnHJhWIdb"
      }
    },
    {
      "cell_type": "code",
      "source": [
        "alive_ages = titanic[titanic[\"survived\"] == 1]\n",
        "dead_ages = titanic[titanic[\"survived\"] == 0]"
      ],
      "metadata": {
        "id": "pBF9UzxtWQUv"
      },
      "execution_count": null,
      "outputs": []
    },
    {
      "cell_type": "code",
      "source": [
        "reslevenetest = levene_test(alive_ages[\"age\"],dead_ages[\"age\"])\n",
        "print(\"Accepted Hypothesis:\",reslevenetest)"
      ],
      "metadata": {
        "id": "vYUKzeREfgYD",
        "colab": {
          "base_uri": "https://localhost:8080/"
        },
        "outputId": "a7f623d0-6da6-417b-9259-7e528ba29462"
      },
      "execution_count": null,
      "outputs": [
        {
          "output_type": "stream",
          "name": "stdout",
          "text": [
            "Accepted Hypothesis: H0\n"
          ]
        }
      ]
    },
    {
      "cell_type": "markdown",
      "source": [
        "This means that the variance of the two samples are same."
      ],
      "metadata": {
        "id": "MSjBhcwRf8fY"
      }
    },
    {
      "cell_type": "code",
      "source": [
        "np.nanvar(alive_ages[\"age\"]),np.nanvar(dead_ages[\"age\"])"
      ],
      "metadata": {
        "id": "y481kJOgg82A",
        "colab": {
          "base_uri": "https://localhost:8080/"
        },
        "outputId": "bec4a340-5582-454c-ef04-4fcbe43de77b"
      },
      "execution_count": null,
      "outputs": [
        {
          "output_type": "execute_result",
          "data": {
            "text/plain": [
              "(222.76016880023784, 200.37499860938055)"
            ]
          },
          "metadata": {},
          "execution_count": 31
        }
      ]
    },
    {
      "cell_type": "markdown",
      "source": [
        "The variance seems different. So checking if the null values are causing levene test to cause the variance to be same."
      ],
      "metadata": {
        "id": "uvpkn_6FhhHS"
      }
    },
    {
      "cell_type": "code",
      "source": [
        "titanic.describe(include=\"all\")"
      ],
      "metadata": {
        "id": "ySSRWIN_u35a",
        "colab": {
          "base_uri": "https://localhost:8080/",
          "height": 300
        },
        "outputId": "03ee3d01-d9e1-4005-8bf3-674ba2d7cf12"
      },
      "execution_count": null,
      "outputs": [
        {
          "output_type": "execute_result",
          "data": {
            "text/plain": [
              "         survived      pclass         sex         age       sibsp       parch  \\\n",
              "count  891.000000  891.000000  891.000000  714.000000  891.000000  891.000000   \n",
              "mean     0.383838    2.308642    0.647587   29.699118    0.523008    0.381594   \n",
              "std      0.486592    0.836071    0.477990   14.526497    1.102743    0.806057   \n",
              "min      0.000000    1.000000    0.000000    0.420000    0.000000    0.000000   \n",
              "25%      0.000000    2.000000    0.000000   20.125000    0.000000    0.000000   \n",
              "50%      0.000000    3.000000    1.000000   28.000000    0.000000    0.000000   \n",
              "75%      1.000000    3.000000    1.000000   38.000000    1.000000    0.000000   \n",
              "max      1.000000    3.000000    1.000000   80.000000    8.000000    6.000000   \n",
              "\n",
              "             fare    embarked         who  adult_male       alone  \n",
              "count  891.000000  891.000000  891.000000  891.000000  891.000000  \n",
              "mean    32.204208    2.536476    0.789001    0.602694    0.602694  \n",
              "std     49.693429    0.791503    0.594291    0.489615    0.489615  \n",
              "min      0.000000    1.000000    0.000000    0.000000    0.000000  \n",
              "25%      7.910400    2.000000    0.000000    0.000000    0.000000  \n",
              "50%     14.454200    3.000000    1.000000    1.000000    1.000000  \n",
              "75%     31.000000    3.000000    1.000000    1.000000    1.000000  \n",
              "max    512.329200    3.000000    2.000000    1.000000    1.000000  "
            ],
            "text/html": [
              "\n",
              "  <div id=\"df-3df2557b-4905-4c9c-8a7b-94915bcc48d3\">\n",
              "    <div class=\"colab-df-container\">\n",
              "      <div>\n",
              "<style scoped>\n",
              "    .dataframe tbody tr th:only-of-type {\n",
              "        vertical-align: middle;\n",
              "    }\n",
              "\n",
              "    .dataframe tbody tr th {\n",
              "        vertical-align: top;\n",
              "    }\n",
              "\n",
              "    .dataframe thead th {\n",
              "        text-align: right;\n",
              "    }\n",
              "</style>\n",
              "<table border=\"1\" class=\"dataframe\">\n",
              "  <thead>\n",
              "    <tr style=\"text-align: right;\">\n",
              "      <th></th>\n",
              "      <th>survived</th>\n",
              "      <th>pclass</th>\n",
              "      <th>sex</th>\n",
              "      <th>age</th>\n",
              "      <th>sibsp</th>\n",
              "      <th>parch</th>\n",
              "      <th>fare</th>\n",
              "      <th>embarked</th>\n",
              "      <th>who</th>\n",
              "      <th>adult_male</th>\n",
              "      <th>alone</th>\n",
              "    </tr>\n",
              "  </thead>\n",
              "  <tbody>\n",
              "    <tr>\n",
              "      <th>count</th>\n",
              "      <td>891.000000</td>\n",
              "      <td>891.000000</td>\n",
              "      <td>891.000000</td>\n",
              "      <td>714.000000</td>\n",
              "      <td>891.000000</td>\n",
              "      <td>891.000000</td>\n",
              "      <td>891.000000</td>\n",
              "      <td>891.000000</td>\n",
              "      <td>891.000000</td>\n",
              "      <td>891.000000</td>\n",
              "      <td>891.000000</td>\n",
              "    </tr>\n",
              "    <tr>\n",
              "      <th>mean</th>\n",
              "      <td>0.383838</td>\n",
              "      <td>2.308642</td>\n",
              "      <td>0.647587</td>\n",
              "      <td>29.699118</td>\n",
              "      <td>0.523008</td>\n",
              "      <td>0.381594</td>\n",
              "      <td>32.204208</td>\n",
              "      <td>2.536476</td>\n",
              "      <td>0.789001</td>\n",
              "      <td>0.602694</td>\n",
              "      <td>0.602694</td>\n",
              "    </tr>\n",
              "    <tr>\n",
              "      <th>std</th>\n",
              "      <td>0.486592</td>\n",
              "      <td>0.836071</td>\n",
              "      <td>0.477990</td>\n",
              "      <td>14.526497</td>\n",
              "      <td>1.102743</td>\n",
              "      <td>0.806057</td>\n",
              "      <td>49.693429</td>\n",
              "      <td>0.791503</td>\n",
              "      <td>0.594291</td>\n",
              "      <td>0.489615</td>\n",
              "      <td>0.489615</td>\n",
              "    </tr>\n",
              "    <tr>\n",
              "      <th>min</th>\n",
              "      <td>0.000000</td>\n",
              "      <td>1.000000</td>\n",
              "      <td>0.000000</td>\n",
              "      <td>0.420000</td>\n",
              "      <td>0.000000</td>\n",
              "      <td>0.000000</td>\n",
              "      <td>0.000000</td>\n",
              "      <td>1.000000</td>\n",
              "      <td>0.000000</td>\n",
              "      <td>0.000000</td>\n",
              "      <td>0.000000</td>\n",
              "    </tr>\n",
              "    <tr>\n",
              "      <th>25%</th>\n",
              "      <td>0.000000</td>\n",
              "      <td>2.000000</td>\n",
              "      <td>0.000000</td>\n",
              "      <td>20.125000</td>\n",
              "      <td>0.000000</td>\n",
              "      <td>0.000000</td>\n",
              "      <td>7.910400</td>\n",
              "      <td>2.000000</td>\n",
              "      <td>0.000000</td>\n",
              "      <td>0.000000</td>\n",
              "      <td>0.000000</td>\n",
              "    </tr>\n",
              "    <tr>\n",
              "      <th>50%</th>\n",
              "      <td>0.000000</td>\n",
              "      <td>3.000000</td>\n",
              "      <td>1.000000</td>\n",
              "      <td>28.000000</td>\n",
              "      <td>0.000000</td>\n",
              "      <td>0.000000</td>\n",
              "      <td>14.454200</td>\n",
              "      <td>3.000000</td>\n",
              "      <td>1.000000</td>\n",
              "      <td>1.000000</td>\n",
              "      <td>1.000000</td>\n",
              "    </tr>\n",
              "    <tr>\n",
              "      <th>75%</th>\n",
              "      <td>1.000000</td>\n",
              "      <td>3.000000</td>\n",
              "      <td>1.000000</td>\n",
              "      <td>38.000000</td>\n",
              "      <td>1.000000</td>\n",
              "      <td>0.000000</td>\n",
              "      <td>31.000000</td>\n",
              "      <td>3.000000</td>\n",
              "      <td>1.000000</td>\n",
              "      <td>1.000000</td>\n",
              "      <td>1.000000</td>\n",
              "    </tr>\n",
              "    <tr>\n",
              "      <th>max</th>\n",
              "      <td>1.000000</td>\n",
              "      <td>3.000000</td>\n",
              "      <td>1.000000</td>\n",
              "      <td>80.000000</td>\n",
              "      <td>8.000000</td>\n",
              "      <td>6.000000</td>\n",
              "      <td>512.329200</td>\n",
              "      <td>3.000000</td>\n",
              "      <td>2.000000</td>\n",
              "      <td>1.000000</td>\n",
              "      <td>1.000000</td>\n",
              "    </tr>\n",
              "  </tbody>\n",
              "</table>\n",
              "</div>\n",
              "      <button class=\"colab-df-convert\" onclick=\"convertToInteractive('df-3df2557b-4905-4c9c-8a7b-94915bcc48d3')\"\n",
              "              title=\"Convert this dataframe to an interactive table.\"\n",
              "              style=\"display:none;\">\n",
              "        \n",
              "  <svg xmlns=\"http://www.w3.org/2000/svg\" height=\"24px\"viewBox=\"0 0 24 24\"\n",
              "       width=\"24px\">\n",
              "    <path d=\"M0 0h24v24H0V0z\" fill=\"none\"/>\n",
              "    <path d=\"M18.56 5.44l.94 2.06.94-2.06 2.06-.94-2.06-.94-.94-2.06-.94 2.06-2.06.94zm-11 1L8.5 8.5l.94-2.06 2.06-.94-2.06-.94L8.5 2.5l-.94 2.06-2.06.94zm10 10l.94 2.06.94-2.06 2.06-.94-2.06-.94-.94-2.06-.94 2.06-2.06.94z\"/><path d=\"M17.41 7.96l-1.37-1.37c-.4-.4-.92-.59-1.43-.59-.52 0-1.04.2-1.43.59L10.3 9.45l-7.72 7.72c-.78.78-.78 2.05 0 2.83L4 21.41c.39.39.9.59 1.41.59.51 0 1.02-.2 1.41-.59l7.78-7.78 2.81-2.81c.8-.78.8-2.07 0-2.86zM5.41 20L4 18.59l7.72-7.72 1.47 1.35L5.41 20z\"/>\n",
              "  </svg>\n",
              "      </button>\n",
              "      \n",
              "  <style>\n",
              "    .colab-df-container {\n",
              "      display:flex;\n",
              "      flex-wrap:wrap;\n",
              "      gap: 12px;\n",
              "    }\n",
              "\n",
              "    .colab-df-convert {\n",
              "      background-color: #E8F0FE;\n",
              "      border: none;\n",
              "      border-radius: 50%;\n",
              "      cursor: pointer;\n",
              "      display: none;\n",
              "      fill: #1967D2;\n",
              "      height: 32px;\n",
              "      padding: 0 0 0 0;\n",
              "      width: 32px;\n",
              "    }\n",
              "\n",
              "    .colab-df-convert:hover {\n",
              "      background-color: #E2EBFA;\n",
              "      box-shadow: 0px 1px 2px rgba(60, 64, 67, 0.3), 0px 1px 3px 1px rgba(60, 64, 67, 0.15);\n",
              "      fill: #174EA6;\n",
              "    }\n",
              "\n",
              "    [theme=dark] .colab-df-convert {\n",
              "      background-color: #3B4455;\n",
              "      fill: #D2E3FC;\n",
              "    }\n",
              "\n",
              "    [theme=dark] .colab-df-convert:hover {\n",
              "      background-color: #434B5C;\n",
              "      box-shadow: 0px 1px 3px 1px rgba(0, 0, 0, 0.15);\n",
              "      filter: drop-shadow(0px 1px 2px rgba(0, 0, 0, 0.3));\n",
              "      fill: #FFFFFF;\n",
              "    }\n",
              "  </style>\n",
              "\n",
              "      <script>\n",
              "        const buttonEl =\n",
              "          document.querySelector('#df-3df2557b-4905-4c9c-8a7b-94915bcc48d3 button.colab-df-convert');\n",
              "        buttonEl.style.display =\n",
              "          google.colab.kernel.accessAllowed ? 'block' : 'none';\n",
              "\n",
              "        async function convertToInteractive(key) {\n",
              "          const element = document.querySelector('#df-3df2557b-4905-4c9c-8a7b-94915bcc48d3');\n",
              "          const dataTable =\n",
              "            await google.colab.kernel.invokeFunction('convertToInteractive',\n",
              "                                                     [key], {});\n",
              "          if (!dataTable) return;\n",
              "\n",
              "          const docLinkHtml = 'Like what you see? Visit the ' +\n",
              "            '<a target=\"_blank\" href=https://colab.research.google.com/notebooks/data_table.ipynb>data table notebook</a>'\n",
              "            + ' to learn more about interactive tables.';\n",
              "          element.innerHTML = '';\n",
              "          dataTable['output_type'] = 'display_data';\n",
              "          await google.colab.output.renderOutput(dataTable, element);\n",
              "          const docLink = document.createElement('div');\n",
              "          docLink.innerHTML = docLinkHtml;\n",
              "          element.appendChild(docLink);\n",
              "        }\n",
              "      </script>\n",
              "    </div>\n",
              "  </div>\n",
              "  "
            ]
          },
          "metadata": {},
          "execution_count": 32
        }
      ]
    },
    {
      "cell_type": "code",
      "source": [
        "titanic_imputation = knn_imputer(titanic,10)"
      ],
      "metadata": {
        "id": "36Vn4ZTFnnpW"
      },
      "execution_count": null,
      "outputs": []
    },
    {
      "cell_type": "code",
      "source": [
        "titanic_imputation.describe(include=\"all\")"
      ],
      "metadata": {
        "id": "jCK4OZgj_ggD",
        "colab": {
          "base_uri": "https://localhost:8080/",
          "height": 300
        },
        "outputId": "f9523180-12dc-41db-8c41-37d286b8f183"
      },
      "execution_count": null,
      "outputs": [
        {
          "output_type": "execute_result",
          "data": {
            "text/plain": [
              "         survived      pclass         sex         age       sibsp       parch  \\\n",
              "count  891.000000  891.000000  891.000000  891.000000  891.000000  891.000000   \n",
              "mean     0.383838    2.308642    0.647587   30.140418    0.523008    0.381594   \n",
              "std      0.486592    0.836071    0.477990   13.345515    1.102743    0.806057   \n",
              "min      0.000000    1.000000    0.000000    0.420000    0.000000    0.000000   \n",
              "25%      0.000000    2.000000    0.000000   22.000000    0.000000    0.000000   \n",
              "50%      0.000000    3.000000    1.000000   30.000000    0.000000    0.000000   \n",
              "75%      1.000000    3.000000    1.000000   37.000000    1.000000    0.000000   \n",
              "max      1.000000    3.000000    1.000000   80.000000    8.000000    6.000000   \n",
              "\n",
              "             fare    embarked         who  adult_male       alone  \n",
              "count  891.000000  891.000000  891.000000  891.000000  891.000000  \n",
              "mean    32.204208    2.536476    0.789001    0.602694    0.602694  \n",
              "std     49.693429    0.791503    0.594291    0.489615    0.489615  \n",
              "min      0.000000    1.000000    0.000000    0.000000    0.000000  \n",
              "25%      7.910400    2.000000    0.000000    0.000000    0.000000  \n",
              "50%     14.454200    3.000000    1.000000    1.000000    1.000000  \n",
              "75%     31.000000    3.000000    1.000000    1.000000    1.000000  \n",
              "max    512.329200    3.000000    2.000000    1.000000    1.000000  "
            ],
            "text/html": [
              "\n",
              "  <div id=\"df-7c6c0cf3-1236-4b9e-ace1-b78b4c72e72e\">\n",
              "    <div class=\"colab-df-container\">\n",
              "      <div>\n",
              "<style scoped>\n",
              "    .dataframe tbody tr th:only-of-type {\n",
              "        vertical-align: middle;\n",
              "    }\n",
              "\n",
              "    .dataframe tbody tr th {\n",
              "        vertical-align: top;\n",
              "    }\n",
              "\n",
              "    .dataframe thead th {\n",
              "        text-align: right;\n",
              "    }\n",
              "</style>\n",
              "<table border=\"1\" class=\"dataframe\">\n",
              "  <thead>\n",
              "    <tr style=\"text-align: right;\">\n",
              "      <th></th>\n",
              "      <th>survived</th>\n",
              "      <th>pclass</th>\n",
              "      <th>sex</th>\n",
              "      <th>age</th>\n",
              "      <th>sibsp</th>\n",
              "      <th>parch</th>\n",
              "      <th>fare</th>\n",
              "      <th>embarked</th>\n",
              "      <th>who</th>\n",
              "      <th>adult_male</th>\n",
              "      <th>alone</th>\n",
              "    </tr>\n",
              "  </thead>\n",
              "  <tbody>\n",
              "    <tr>\n",
              "      <th>count</th>\n",
              "      <td>891.000000</td>\n",
              "      <td>891.000000</td>\n",
              "      <td>891.000000</td>\n",
              "      <td>891.000000</td>\n",
              "      <td>891.000000</td>\n",
              "      <td>891.000000</td>\n",
              "      <td>891.000000</td>\n",
              "      <td>891.000000</td>\n",
              "      <td>891.000000</td>\n",
              "      <td>891.000000</td>\n",
              "      <td>891.000000</td>\n",
              "    </tr>\n",
              "    <tr>\n",
              "      <th>mean</th>\n",
              "      <td>0.383838</td>\n",
              "      <td>2.308642</td>\n",
              "      <td>0.647587</td>\n",
              "      <td>30.140418</td>\n",
              "      <td>0.523008</td>\n",
              "      <td>0.381594</td>\n",
              "      <td>32.204208</td>\n",
              "      <td>2.536476</td>\n",
              "      <td>0.789001</td>\n",
              "      <td>0.602694</td>\n",
              "      <td>0.602694</td>\n",
              "    </tr>\n",
              "    <tr>\n",
              "      <th>std</th>\n",
              "      <td>0.486592</td>\n",
              "      <td>0.836071</td>\n",
              "      <td>0.477990</td>\n",
              "      <td>13.345515</td>\n",
              "      <td>1.102743</td>\n",
              "      <td>0.806057</td>\n",
              "      <td>49.693429</td>\n",
              "      <td>0.791503</td>\n",
              "      <td>0.594291</td>\n",
              "      <td>0.489615</td>\n",
              "      <td>0.489615</td>\n",
              "    </tr>\n",
              "    <tr>\n",
              "      <th>min</th>\n",
              "      <td>0.000000</td>\n",
              "      <td>1.000000</td>\n",
              "      <td>0.000000</td>\n",
              "      <td>0.420000</td>\n",
              "      <td>0.000000</td>\n",
              "      <td>0.000000</td>\n",
              "      <td>0.000000</td>\n",
              "      <td>1.000000</td>\n",
              "      <td>0.000000</td>\n",
              "      <td>0.000000</td>\n",
              "      <td>0.000000</td>\n",
              "    </tr>\n",
              "    <tr>\n",
              "      <th>25%</th>\n",
              "      <td>0.000000</td>\n",
              "      <td>2.000000</td>\n",
              "      <td>0.000000</td>\n",
              "      <td>22.000000</td>\n",
              "      <td>0.000000</td>\n",
              "      <td>0.000000</td>\n",
              "      <td>7.910400</td>\n",
              "      <td>2.000000</td>\n",
              "      <td>0.000000</td>\n",
              "      <td>0.000000</td>\n",
              "      <td>0.000000</td>\n",
              "    </tr>\n",
              "    <tr>\n",
              "      <th>50%</th>\n",
              "      <td>0.000000</td>\n",
              "      <td>3.000000</td>\n",
              "      <td>1.000000</td>\n",
              "      <td>30.000000</td>\n",
              "      <td>0.000000</td>\n",
              "      <td>0.000000</td>\n",
              "      <td>14.454200</td>\n",
              "      <td>3.000000</td>\n",
              "      <td>1.000000</td>\n",
              "      <td>1.000000</td>\n",
              "      <td>1.000000</td>\n",
              "    </tr>\n",
              "    <tr>\n",
              "      <th>75%</th>\n",
              "      <td>1.000000</td>\n",
              "      <td>3.000000</td>\n",
              "      <td>1.000000</td>\n",
              "      <td>37.000000</td>\n",
              "      <td>1.000000</td>\n",
              "      <td>0.000000</td>\n",
              "      <td>31.000000</td>\n",
              "      <td>3.000000</td>\n",
              "      <td>1.000000</td>\n",
              "      <td>1.000000</td>\n",
              "      <td>1.000000</td>\n",
              "    </tr>\n",
              "    <tr>\n",
              "      <th>max</th>\n",
              "      <td>1.000000</td>\n",
              "      <td>3.000000</td>\n",
              "      <td>1.000000</td>\n",
              "      <td>80.000000</td>\n",
              "      <td>8.000000</td>\n",
              "      <td>6.000000</td>\n",
              "      <td>512.329200</td>\n",
              "      <td>3.000000</td>\n",
              "      <td>2.000000</td>\n",
              "      <td>1.000000</td>\n",
              "      <td>1.000000</td>\n",
              "    </tr>\n",
              "  </tbody>\n",
              "</table>\n",
              "</div>\n",
              "      <button class=\"colab-df-convert\" onclick=\"convertToInteractive('df-7c6c0cf3-1236-4b9e-ace1-b78b4c72e72e')\"\n",
              "              title=\"Convert this dataframe to an interactive table.\"\n",
              "              style=\"display:none;\">\n",
              "        \n",
              "  <svg xmlns=\"http://www.w3.org/2000/svg\" height=\"24px\"viewBox=\"0 0 24 24\"\n",
              "       width=\"24px\">\n",
              "    <path d=\"M0 0h24v24H0V0z\" fill=\"none\"/>\n",
              "    <path d=\"M18.56 5.44l.94 2.06.94-2.06 2.06-.94-2.06-.94-.94-2.06-.94 2.06-2.06.94zm-11 1L8.5 8.5l.94-2.06 2.06-.94-2.06-.94L8.5 2.5l-.94 2.06-2.06.94zm10 10l.94 2.06.94-2.06 2.06-.94-2.06-.94-.94-2.06-.94 2.06-2.06.94z\"/><path d=\"M17.41 7.96l-1.37-1.37c-.4-.4-.92-.59-1.43-.59-.52 0-1.04.2-1.43.59L10.3 9.45l-7.72 7.72c-.78.78-.78 2.05 0 2.83L4 21.41c.39.39.9.59 1.41.59.51 0 1.02-.2 1.41-.59l7.78-7.78 2.81-2.81c.8-.78.8-2.07 0-2.86zM5.41 20L4 18.59l7.72-7.72 1.47 1.35L5.41 20z\"/>\n",
              "  </svg>\n",
              "      </button>\n",
              "      \n",
              "  <style>\n",
              "    .colab-df-container {\n",
              "      display:flex;\n",
              "      flex-wrap:wrap;\n",
              "      gap: 12px;\n",
              "    }\n",
              "\n",
              "    .colab-df-convert {\n",
              "      background-color: #E8F0FE;\n",
              "      border: none;\n",
              "      border-radius: 50%;\n",
              "      cursor: pointer;\n",
              "      display: none;\n",
              "      fill: #1967D2;\n",
              "      height: 32px;\n",
              "      padding: 0 0 0 0;\n",
              "      width: 32px;\n",
              "    }\n",
              "\n",
              "    .colab-df-convert:hover {\n",
              "      background-color: #E2EBFA;\n",
              "      box-shadow: 0px 1px 2px rgba(60, 64, 67, 0.3), 0px 1px 3px 1px rgba(60, 64, 67, 0.15);\n",
              "      fill: #174EA6;\n",
              "    }\n",
              "\n",
              "    [theme=dark] .colab-df-convert {\n",
              "      background-color: #3B4455;\n",
              "      fill: #D2E3FC;\n",
              "    }\n",
              "\n",
              "    [theme=dark] .colab-df-convert:hover {\n",
              "      background-color: #434B5C;\n",
              "      box-shadow: 0px 1px 3px 1px rgba(0, 0, 0, 0.15);\n",
              "      filter: drop-shadow(0px 1px 2px rgba(0, 0, 0, 0.3));\n",
              "      fill: #FFFFFF;\n",
              "    }\n",
              "  </style>\n",
              "\n",
              "      <script>\n",
              "        const buttonEl =\n",
              "          document.querySelector('#df-7c6c0cf3-1236-4b9e-ace1-b78b4c72e72e button.colab-df-convert');\n",
              "        buttonEl.style.display =\n",
              "          google.colab.kernel.accessAllowed ? 'block' : 'none';\n",
              "\n",
              "        async function convertToInteractive(key) {\n",
              "          const element = document.querySelector('#df-7c6c0cf3-1236-4b9e-ace1-b78b4c72e72e');\n",
              "          const dataTable =\n",
              "            await google.colab.kernel.invokeFunction('convertToInteractive',\n",
              "                                                     [key], {});\n",
              "          if (!dataTable) return;\n",
              "\n",
              "          const docLinkHtml = 'Like what you see? Visit the ' +\n",
              "            '<a target=\"_blank\" href=https://colab.research.google.com/notebooks/data_table.ipynb>data table notebook</a>'\n",
              "            + ' to learn more about interactive tables.';\n",
              "          element.innerHTML = '';\n",
              "          dataTable['output_type'] = 'display_data';\n",
              "          await google.colab.output.renderOutput(dataTable, element);\n",
              "          const docLink = document.createElement('div');\n",
              "          docLink.innerHTML = docLinkHtml;\n",
              "          element.appendChild(docLink);\n",
              "        }\n",
              "      </script>\n",
              "    </div>\n",
              "  </div>\n",
              "  "
            ]
          },
          "metadata": {},
          "execution_count": 34
        }
      ]
    },
    {
      "cell_type": "code",
      "source": [
        "alive_ages = titanic_imputation[titanic_imputation[\"survived\"] == 1]\n",
        "dead_ages = titanic_imputation[titanic_imputation[\"survived\"] == 0]\n",
        "\n",
        "reslevenetest = levene_test(alive_ages[\"age\"],dead_ages[\"age\"])\n",
        "print(\"Accepted Hypothesis:\",reslevenetest)"
      ],
      "metadata": {
        "id": "k1M0IwyPooHk",
        "colab": {
          "base_uri": "https://localhost:8080/"
        },
        "outputId": "1428e223-58aa-4d52-d324-86ed753ba5d0"
      },
      "execution_count": null,
      "outputs": [
        {
          "output_type": "stream",
          "name": "stdout",
          "text": [
            "Accepted Hypothesis: H1\n"
          ]
        }
      ]
    },
    {
      "cell_type": "markdown",
      "source": [
        "This means that the levene test does not work if there are null values in the features. So after imputing its clear that the variance of age is different for alive and dead"
      ],
      "metadata": {
        "id": "EVy6vkKmCneX"
      }
    },
    {
      "cell_type": "code",
      "source": [
        "resshapirotest = shapiro_test(alive_ages[\"age\"])\n",
        "print(\"Accepted Hypothesis for alive samples of age:\",resshapirotest)\n",
        "\n",
        "resshapirotest = shapiro_test(dead_ages[\"age\"])\n",
        "print(\"Accepted Hypothesis for dead samples of age:\",resshapirotest)"
      ],
      "metadata": {
        "id": "FKdH7rNzDXd1",
        "colab": {
          "base_uri": "https://localhost:8080/"
        },
        "outputId": "0232a9e7-07c2-4db4-cf98-8545648eb81a"
      },
      "execution_count": null,
      "outputs": [
        {
          "output_type": "stream",
          "name": "stdout",
          "text": [
            "Accepted Hypothesis for alive samples of age: H1\n",
            "Accepted Hypothesis for dead samples of age: H1\n"
          ]
        }
      ]
    },
    {
      "cell_type": "markdown",
      "source": [
        "This means that the age feature does not follow the normal distribution. So we conduct non parametric tests"
      ],
      "metadata": {
        "id": "OPjYwa6QD7ea"
      }
    },
    {
      "cell_type": "code",
      "source": [
        "s,reskruskalstest = kruskalsWallis_test(alive_ages[\"age\"],dead_ages[\"age\"])\n",
        "create_list('age',s)\n",
        "print(\"Accepted Hypothesis:\",reskruskalstest)"
      ],
      "metadata": {
        "id": "6ZN6BaC2EfI0",
        "colab": {
          "base_uri": "https://localhost:8080/"
        },
        "outputId": "06720df3-e6cb-4a2d-f0f7-a30a120fb369"
      },
      "execution_count": null,
      "outputs": [
        {
          "output_type": "stream",
          "name": "stdout",
          "text": [
            "Accepted Hypothesis: H1\n"
          ]
        }
      ]
    },
    {
      "cell_type": "code",
      "source": [
        "manwhitneytest = mannwhitney_test(alive_ages[\"age\"],dead_ages[\"age\"])\n",
        "print(\"Accepted Hypothesis:\",manwhitneytest)"
      ],
      "metadata": {
        "id": "QdKN1zd6Flsd",
        "colab": {
          "base_uri": "https://localhost:8080/"
        },
        "outputId": "83f294d9-0653-4e0c-ed7f-a4a6a1814b33"
      },
      "execution_count": null,
      "outputs": [
        {
          "output_type": "stream",
          "name": "stdout",
          "text": [
            "Accepted Hypothesis: H1\n"
          ]
        }
      ]
    },
    {
      "cell_type": "code",
      "source": [
        "wilcoxontest = wilcoxon_test(alive_ages[\"age\"],dead_ages[\"age\"],min(len(alive_ages),len(dead_ages)))\n",
        "print(\"Accepted Hypothesis:\",wilcoxontest)"
      ],
      "metadata": {
        "id": "jfmV5m0zFpyi",
        "colab": {
          "base_uri": "https://localhost:8080/"
        },
        "outputId": "60738c20-91bc-4688-ecb3-e7f8778c311e"
      },
      "execution_count": null,
      "outputs": [
        {
          "output_type": "stream",
          "name": "stdout",
          "text": [
            "Accepted Hypothesis: H1\n"
          ]
        }
      ]
    },
    {
      "cell_type": "markdown",
      "source": [
        "This means that the there is a significant difference between the alive and dead based on age. "
      ],
      "metadata": {
        "id": "lXwO_VbwGJVq"
      }
    },
    {
      "cell_type": "code",
      "source": [
        "plt.figure(figsize=(15,10))\n",
        "sns.boxplot(y='age',x='survived',data=titanic_imputation)\n",
        "plt.show()"
      ],
      "metadata": {
        "id": "C4-ertsNISKh",
        "colab": {
          "base_uri": "https://localhost:8080/",
          "height": 606
        },
        "outputId": "79684bde-fbd3-4844-fe4c-abf80320433a"
      },
      "execution_count": null,
      "outputs": [
        {
          "output_type": "display_data",
          "data": {
            "text/plain": [
              "<Figure size 1080x720 with 1 Axes>"
            ],
            "image/png": "[encoded data removed]"
          },
          "metadata": {
            "needs_background": "light"
          }
        }
      ]
    },
    {
      "cell_type": "markdown",
      "source": [
        "The median values appears to be real close. So need further analysis on its significance on affecting the survival"
      ],
      "metadata": {
        "id": "X2TAOnNjusha"
      }
    },
    {
      "cell_type": "markdown",
      "source": [
        "####Binned Age"
      ],
      "metadata": {
        "id": "2vb5mh2LheEc"
      }
    },
    {
      "cell_type": "markdown",
      "source": [
        "Creating a new feature from age by binning the ages into different categories. "
      ],
      "metadata": {
        "id": "p-LeTmiKhgoW"
      }
    },
    {
      "cell_type": "code",
      "source": [
        "titanic_imputation[\"age\"].isna().sum()"
      ],
      "metadata": {
        "colab": {
          "base_uri": "https://localhost:8080/"
        },
        "id": "tCSJwmPAf90V",
        "outputId": "d6faa0f0-3ca9-491e-ecd5-fdab21f0980f"
      },
      "execution_count": null,
      "outputs": [
        {
          "output_type": "execute_result",
          "data": {
            "text/plain": [
              "0"
            ]
          },
          "metadata": {},
          "execution_count": 43
        }
      ]
    },
    {
      "cell_type": "code",
      "source": [
        "np.min(titanic_imputation[\"age\"]),np.max(titanic_imputation[\"age\"])"
      ],
      "metadata": {
        "colab": {
          "base_uri": "https://localhost:8080/"
        },
        "id": "xWsiuW4ziB_W",
        "outputId": "eda10e04-a07e-44aa-be45-3aa7fc9225b3"
      },
      "execution_count": null,
      "outputs": [
        {
          "output_type": "execute_result",
          "data": {
            "text/plain": [
              "(0.42, 80.0)"
            ]
          },
          "metadata": {},
          "execution_count": 44
        }
      ]
    },
    {
      "cell_type": "code",
      "source": [
        "'''\n",
        "dividing the continuous ages into categorical values -\n",
        "Ages      Value\n",
        "\n",
        "0-10    -  1\n",
        "10-20   -  2\n",
        "20-30   -  3\n",
        "30-40   -  4\n",
        "40-50   -  5\n",
        "50-60   -  6\n",
        "60-70   -  7\n",
        "70-80   -  8\n",
        "'''\n",
        "def binned_age(age):\n",
        "    if 0<age<=10:\n",
        "        return 1\n",
        "    if 10<age<=20:\n",
        "        return 2\n",
        "    if 20<age<=30:\n",
        "        return 3\n",
        "    if 30<age<=40:\n",
        "        return 4\n",
        "    if 40<age<=50:\n",
        "        return 5\n",
        "    if 50<age<=60:\n",
        "        return 6\n",
        "    if 60<age<=70:\n",
        "        return 7\n",
        "    if 70<age<=80:\n",
        "        return 8\n",
        "\n",
        "\n",
        "titanic_imputation[\"binned_age\"] = titanic_imputation.age.apply(binned_age)"
      ],
      "metadata": {
        "id": "BWcy0JYjh5wJ"
      },
      "execution_count": null,
      "outputs": []
    },
    {
      "cell_type": "markdown",
      "source": [
        "###Correlation b/w numerical features"
      ],
      "metadata": {
        "id": "LQT1MF8Miub9"
      }
    },
    {
      "cell_type": "code",
      "source": [
        "#survived can be added here, since it has only two categories and we converted it to numeric \n",
        "numeric_features = titanic_imputation[[\"age\",\"fare\",\"survived\"]]\n",
        "correlation_numeric = numeric_features.corr(method='spearman')\n",
        "\n",
        "columns = correlation_numeric.index\n",
        "\n",
        "corr_matrix = np.corrcoef(titanic_imputation[columns].values.T)\n",
        "f , ax = plt.subplots(figsize = (14,12))\n",
        "sns.heatmap(corr_matrix, vmax=1, linewidths=0.01,square=True,annot=True,cmap='Blues',\n",
        "            linecolor=\"white\",xticklabels = columns.values ,annot_kws = {'size':12},yticklabels = columns.values)"
      ],
      "metadata": {
        "id": "p2xjkbttggLz",
        "colab": {
          "base_uri": "https://localhost:8080/",
          "height": 708
        },
        "outputId": "41bf2a99-ea47-4760-b03e-2a8026e54ca1"
      },
      "execution_count": null,
      "outputs": [
        {
          "output_type": "execute_result",
          "data": {
            "text/plain": [
              "<matplotlib.axes._subplots.AxesSubplot at 0x7fed37f7d790>"
            ]
          },
          "metadata": {},
          "execution_count": 56
        },
        {
          "output_type": "display_data",
          "data": {
            "text/plain": [
              "<Figure size 1008x864 with 2 Axes>"
            ],
            "image/png": "[encoded data removed]"
          },
          "metadata": {
            "needs_background": "light"
          }
        }
      ]
    },
    {
      "cell_type": "markdown",
      "source": [
        "**Observations-**\n",
        "\n",
        "1. The fare and age are not highly correlated. \n",
        "2. Age and Survived are not highly correlated. \n",
        "3. fare is related to survived to some extent."
      ],
      "metadata": {
        "id": "CFPURy4Ni3BO"
      }
    },
    {
      "cell_type": "markdown",
      "source": [
        "## Categorical Feature Analysis"
      ],
      "metadata": {
        "id": "ibOziMf_i7hv"
      }
    },
    {
      "cell_type": "code",
      "source": [
        "categorical_features = titanic_imputation.drop([\"fare\",\"age\"],axis=1)"
      ],
      "metadata": {
        "id": "430D-Ax0h64m"
      },
      "execution_count": null,
      "outputs": []
    },
    {
      "cell_type": "markdown",
      "source": [
        "### Hypothesis Test"
      ],
      "metadata": {
        "id": "f-IMmi2m3pQJ"
      }
    },
    {
      "cell_type": "code",
      "source": [
        "def construct_contingency(feature_a,feature_b,IsNormalize=False):\n",
        "  if IsNormalize:\n",
        "      contingency = pd.crosstab(feature_a,feature_b,normalize='index')\n",
        "  else:\n",
        "      contingency = pd.crosstab(feature_a,feature_b)\n",
        "  return contingency"
      ],
      "metadata": {
        "id": "Af5oSsAr3yGW"
      },
      "execution_count": null,
      "outputs": []
    },
    {
      "cell_type": "code",
      "source": [
        "'''\n",
        "H0 = the distributions are independent\n",
        "H1 - the distributions are dependent\n",
        "'''\n",
        "def chi_square_test(feature_a,feature_b):\n",
        "    contingency = construct_contingency(feature_a,feature_b)\n",
        "    c, pval, dof, expected = stats.chi2_contingency(contingency)\n",
        "    return c,contingency,pval"
      ],
      "metadata": {
        "id": "XgCj-71T4O0i"
      },
      "execution_count": null,
      "outputs": []
    },
    {
      "cell_type": "markdown",
      "source": [
        "### Plots"
      ],
      "metadata": {
        "id": "0NfxnuCz54mL"
      }
    },
    {
      "cell_type": "code",
      "source": [
        "def plot_heatmap(feature_a,feature_b):\n",
        "    figure,ax = plt.subplots(1,2,figsize=(12,12))\n",
        "    sns.heatmap(ax=ax[0],data=construct_contingency(feature_a,feature_b,True),annot=True)\n",
        "    ax[0].set_title(\"Normalized over index\")\n",
        "    c = pd.crosstab(feature_a,feature_b,normalize='columns')\n",
        "    sns.heatmap(ax=ax[1],data=c,annot=True)\n",
        "    ax[1].set_title(\"Normalized over columns\")\n",
        "    plt.show()"
      ],
      "metadata": {
        "id": "4TZ7QIm258F6"
      },
      "execution_count": null,
      "outputs": []
    },
    {
      "cell_type": "markdown",
      "source": [
        "### pclass"
      ],
      "metadata": {
        "id": "r-5yySTjogJ-"
      }
    },
    {
      "cell_type": "code",
      "source": [
        "categorical_features[\"pclass\"].value_counts().plot(kind='pie',autopct='%.2f')"
      ],
      "metadata": {
        "id": "E_yc9gXBnc0F",
        "colab": {
          "base_uri": "https://localhost:8080/",
          "height": 265
        },
        "outputId": "0e7285af-a069-4315-e502-d97dfe677431"
      },
      "execution_count": null,
      "outputs": [
        {
          "output_type": "execute_result",
          "data": {
            "text/plain": [
              "<matplotlib.axes._subplots.AxesSubplot at 0x7fed37e7a110>"
            ]
          },
          "metadata": {},
          "execution_count": 61
        },
        {
          "output_type": "display_data",
          "data": {
            "text/plain": [
              "<Figure size 432x288 with 1 Axes>"
            ],
            "image/png": "[encoded data removed]"
          },
          "metadata": {}
        }
      ]
    },
    {
      "cell_type": "code",
      "source": [
        "statscore,contingency,pval = chi_square_test(categorical_features[\"pclass\"],categorical_features[\"survived\"])\n",
        "create_list('pclass',statscore)\n",
        "\n",
        "print(\"The accepted hypothesis is :\",\"H1\" if pval <= 0.05 else \"H0\")\n",
        "\n",
        "plot_heatmap(categorical_features[\"pclass\"],categorical_features[\"survived\"])"
      ],
      "metadata": {
        "id": "56GbqYPJ1Uep",
        "colab": {
          "base_uri": "https://localhost:8080/",
          "height": 747
        },
        "outputId": "1cd18fe7-abb9-43c8-ad90-b4325d02cf28"
      },
      "execution_count": null,
      "outputs": [
        {
          "output_type": "stream",
          "name": "stdout",
          "text": [
            "The accepted hypothesis is : H1\n"
          ]
        },
        {
          "output_type": "display_data",
          "data": {
            "text/plain": [
              "<Figure size 864x864 with 4 Axes>"
            ],
            "image/png": "[encoded data removed]"
          },
          "metadata": {
            "needs_background": "light"
          }
        }
      ]
    },
    {
      "cell_type": "markdown",
      "source": [
        "The above heatmap shows that -\n",
        "1. If you belong to higher class, then you have higher/better chance of survival. \n",
        "2. If the person didnt survive, then there is a high probablity that the person belonged to lower class. \n",
        "3. If the person belongs to 2nd class then it might not be so clear if person survived. "
      ],
      "metadata": {
        "id": "IRZnRx89V6tJ"
      }
    },
    {
      "cell_type": "markdown",
      "source": [
        "### sex"
      ],
      "metadata": {
        "id": "0ZSeC-31MPEt"
      }
    },
    {
      "cell_type": "code",
      "source": [
        "titanic_imputation[\"sex\"].value_counts().plot(kind='pie',autopct=\"%.2f\")"
      ],
      "metadata": {
        "id": "3zGbjqonMglX",
        "colab": {
          "base_uri": "https://localhost:8080/",
          "height": 265
        },
        "outputId": "84f9e6ef-ecb7-44fe-c63e-915ea78f1451"
      },
      "execution_count": null,
      "outputs": [
        {
          "output_type": "execute_result",
          "data": {
            "text/plain": [
              "<matplotlib.axes._subplots.AxesSubplot at 0x7fed37de2410>"
            ]
          },
          "metadata": {},
          "execution_count": 63
        },
        {
          "output_type": "display_data",
          "data": {
            "text/plain": [
              "<Figure size 432x288 with 1 Axes>"
            ],
            "image/png": "[encoded data removed]"
          },
          "metadata": {}
        }
      ]
    },
    {
      "cell_type": "code",
      "source": [
        "statscore,contingency,pval = chi_square_test(categorical_features[\"sex\"],categorical_features[\"survived\"])\n",
        "create_list('sex',statscore)\n",
        "\n",
        "print(\"The accepted hypothesis is :\",\"H1\" if pval <= 0.05 else \"H0\")\n",
        "\n",
        "plot_heatmap(categorical_features[\"sex\"],categorical_features[\"survived\"])"
      ],
      "metadata": {
        "id": "tggclCZfNgZy",
        "colab": {
          "base_uri": "https://localhost:8080/",
          "height": 747
        },
        "outputId": "77a8c59d-e5c3-4d81-c6e7-8e7fb04d0ce8"
      },
      "execution_count": null,
      "outputs": [
        {
          "output_type": "stream",
          "name": "stdout",
          "text": [
            "The accepted hypothesis is : H1\n"
          ]
        },
        {
          "output_type": "display_data",
          "data": {
            "text/plain": [
              "<Figure size 864x864 with 4 Axes>"
            ],
            "image/png": "[encoded data removed]"
          },
          "metadata": {
            "needs_background": "light"
          }
        }
      ]
    },
    {
      "cell_type": "markdown",
      "source": [
        "Female survival rate is higher. "
      ],
      "metadata": {
        "id": "3g3KlhSqYjib"
      }
    },
    {
      "cell_type": "markdown",
      "source": [
        "### sibsp"
      ],
      "metadata": {
        "id": "PGfhHPNhR5-P"
      }
    },
    {
      "cell_type": "code",
      "source": [
        "plt.figure(figsize=(10,10))\n",
        "titanic_imputation[\"sibsp\"].value_counts().plot(kind='pie',autopct='%.2f')\n",
        "plt.show()"
      ],
      "metadata": {
        "id": "pgxjXAcFSCWL",
        "colab": {
          "base_uri": "https://localhost:8080/",
          "height": 575
        },
        "outputId": "b0285f1a-c696-46a1-bc59-728090998df7"
      },
      "execution_count": null,
      "outputs": [
        {
          "output_type": "display_data",
          "data": {
            "text/plain": [
              "<Figure size 720x720 with 1 Axes>"
            ],
            "image/png": "[encoded data removed]"
          },
          "metadata": {}
        }
      ]
    },
    {
      "cell_type": "code",
      "source": [
        "plt.figure(figsize=(15,10))\n",
        "sns.countplot(x='sibsp',hue='survived',data=titanic_imputation)\n",
        "plt.show()"
      ],
      "metadata": {
        "id": "xPqkhCJ6TqDh",
        "colab": {
          "base_uri": "https://localhost:8080/",
          "height": 606
        },
        "outputId": "595afac4-80ee-418d-a92e-20474cdbb15e"
      },
      "execution_count": null,
      "outputs": [
        {
          "output_type": "display_data",
          "data": {
            "text/plain": [
              "<Figure size 1080x720 with 1 Axes>"
            ],
            "image/png": "[encoded data removed]"
          },
          "metadata": {
            "needs_background": "light"
          }
        }
      ]
    },
    {
      "cell_type": "code",
      "source": [
        "statscore,contingency,pval = chi_square_test(categorical_features[\"sibsp\"],categorical_features[\"survived\"])\n",
        "create_list('sibsp',statscore)\n",
        "\n",
        "print(\"The accepted hypothesis is :\",\"H1\" if pval <= 0.05 else \"H0\")\n",
        "\n",
        "plot_heatmap(categorical_features[\"sibsp\"],categorical_features[\"survived\"])"
      ],
      "metadata": {
        "id": "h__aIvLRU5yv",
        "colab": {
          "base_uri": "https://localhost:8080/",
          "height": 747
        },
        "outputId": "a7b33d2f-222f-40d4-a126-9421aabbb112"
      },
      "execution_count": null,
      "outputs": [
        {
          "output_type": "stream",
          "name": "stdout",
          "text": [
            "The accepted hypothesis is : H1\n"
          ]
        },
        {
          "output_type": "display_data",
          "data": {
            "text/plain": [
              "<Figure size 864x864 with 4 Axes>"
            ],
            "image/png": "[encoded data removed]"
          },
          "metadata": {
            "needs_background": "light"
          }
        }
      ]
    },
    {
      "cell_type": "markdown",
      "source": [
        "1. Other than having 0 sibsp, as the number of sibsp increases then survival rate decreases.\n",
        "2. More than 2 sibsp are very less and have less impact on the survival. \n",
        "3. If the person survived or not survived, there is a high chance that he/she had 0 sibsp."
      ],
      "metadata": {
        "id": "A-J8bvDjZBeE"
      }
    },
    {
      "cell_type": "markdown",
      "source": [
        "### parch"
      ],
      "metadata": {
        "id": "4fbrXCNQZjsF"
      }
    },
    {
      "cell_type": "code",
      "source": [
        "plt.figure(figsize=(15,10))\n",
        "titanic_imputation[\"parch\"].value_counts().plot(kind='pie',autopct=\"%.2f\")\n",
        "plt.show()"
      ],
      "metadata": {
        "id": "DKbSNzuaZKCy",
        "colab": {
          "base_uri": "https://localhost:8080/",
          "height": 575
        },
        "outputId": "251dcd6c-1c04-4190-d694-46e3fb4ee61b"
      },
      "execution_count": null,
      "outputs": [
        {
          "output_type": "display_data",
          "data": {
            "text/plain": [
              "<Figure size 1080x720 with 1 Axes>"
            ],
            "image/png": "[encoded data removed]"
          },
          "metadata": {}
        }
      ]
    },
    {
      "cell_type": "code",
      "source": [
        "statscore,contingency,pval = chi_square_test(titanic_imputation[\"parch\"],titanic_imputation[\"survived\"])\n",
        "create_list('parch',statscore)\n",
        "print(\"The accepted hypothesis is :\",\"H1\" if pval <= 0.05 else \"H0\")\n",
        "\n",
        "plot_heatmap(categorical_features[\"parch\"],categorical_features[\"survived\"])"
      ],
      "metadata": {
        "id": "rVhi3A0baSNB",
        "colab": {
          "base_uri": "https://localhost:8080/",
          "height": 747
        },
        "outputId": "3dbe9040-5f6b-4902-cab9-e73d5b49ed1d"
      },
      "execution_count": null,
      "outputs": [
        {
          "output_type": "stream",
          "name": "stdout",
          "text": [
            "The accepted hypothesis is : H1\n"
          ]
        },
        {
          "output_type": "display_data",
          "data": {
            "text/plain": [
              "<Figure size 864x864 with 4 Axes>"
            ],
            "image/png": "[encoded data removed]"
          },
          "metadata": {
            "needs_background": "light"
          }
        }
      ]
    },
    {
      "cell_type": "markdown",
      "source": [
        "1. If he/she survived, then high chance that they had 0 parch. Next best chance is he has 1 or 2 parch\n",
        "2. If he/she died, then there is again a high chance that they had 0 parch. "
      ],
      "metadata": {
        "id": "C64O4ijXbxkS"
      }
    },
    {
      "cell_type": "markdown",
      "source": [
        "### Who"
      ],
      "metadata": {
        "id": "lEiYtOeBcJYV"
      }
    },
    {
      "cell_type": "code",
      "source": [
        "titanic_imputation[\"who\"].value_counts().plot(kind='pie',autopct=\"%.2f\")"
      ],
      "metadata": {
        "id": "XYQa3UnxcDKl",
        "colab": {
          "base_uri": "https://localhost:8080/",
          "height": 265
        },
        "outputId": "923bcfb0-fdd7-4c15-aeea-e198b04cf74e"
      },
      "execution_count": null,
      "outputs": [
        {
          "output_type": "execute_result",
          "data": {
            "text/plain": [
              "<matplotlib.axes._subplots.AxesSubplot at 0x7fed37a19c90>"
            ]
          },
          "metadata": {},
          "execution_count": 70
        },
        {
          "output_type": "display_data",
          "data": {
            "text/plain": [
              "<Figure size 432x288 with 1 Axes>"
            ],
            "image/png": "[encoded data removed]"
          },
          "metadata": {}
        }
      ]
    },
    {
      "cell_type": "code",
      "source": [
        "statscore,contingency,pval = chi_square_test(titanic_imputation[\"who\"],titanic_imputation[\"survived\"])\n",
        "create_list('who',statscore)\n",
        "\n",
        "print(\"The accepted hypothesis:\",\"H1\" if pval <= 0.05 else \"H0\")\n",
        "\n",
        "plot_heatmap(titanic_imputation[\"who\"],titanic_imputation[\"survived\"])"
      ],
      "metadata": {
        "id": "Vyd-KSN7dV7f",
        "colab": {
          "base_uri": "https://localhost:8080/",
          "height": 747
        },
        "outputId": "6d86e07e-2d24-4663-9220-a55a9325bb02"
      },
      "execution_count": null,
      "outputs": [
        {
          "output_type": "stream",
          "name": "stdout",
          "text": [
            "The accepted hypothesis: H1\n"
          ]
        },
        {
          "output_type": "display_data",
          "data": {
            "text/plain": [
              "<Figure size 864x864 with 4 Axes>"
            ],
            "image/png": "[encoded data removed]"
          },
          "metadata": {
            "needs_background": "light"
          }
        }
      ]
    },
    {
      "cell_type": "markdown",
      "source": [
        "So its clear that the woman and children survival is higher "
      ],
      "metadata": {
        "id": "nkerGv8TeXWy"
      }
    },
    {
      "cell_type": "markdown",
      "source": [
        "### adult male"
      ],
      "metadata": {
        "id": "uH4w-l93ehAr"
      }
    },
    {
      "cell_type": "code",
      "source": [
        "titanic_imputation[\"adult_male\"].value_counts().plot(kind='pie',autopct=\"%.2f\")"
      ],
      "metadata": {
        "id": "Qcg0CI4yef9m",
        "colab": {
          "base_uri": "https://localhost:8080/",
          "height": 265
        },
        "outputId": "a1c8e319-11ff-4928-89af-7ba5a6f2ccd0"
      },
      "execution_count": null,
      "outputs": [
        {
          "output_type": "execute_result",
          "data": {
            "text/plain": [
              "<matplotlib.axes._subplots.AxesSubplot at 0x7fed3790dfd0>"
            ]
          },
          "metadata": {},
          "execution_count": 72
        },
        {
          "output_type": "display_data",
          "data": {
            "text/plain": [
              "<Figure size 432x288 with 1 Axes>"
            ],
            "image/png": "[encoded data removed]"
          },
          "metadata": {}
        }
      ]
    },
    {
      "cell_type": "code",
      "source": [
        "statscore,contingency,pval = chi_square_test(titanic_imputation[\"adult_male\"],titanic_imputation[\"survived\"])\n",
        "create_list('adult_male',statscore)\n",
        "\n",
        "print(\"The accepted hypothesis:\",\"H1\" if pval <= 0.05 else \"H0\")\n",
        "\n",
        "plot_heatmap(titanic_imputation[\"adult_male\"],titanic_imputation[\"survived\"])"
      ],
      "metadata": {
        "id": "I8yEr0eCoE8U",
        "colab": {
          "base_uri": "https://localhost:8080/",
          "height": 747
        },
        "outputId": "92da1bef-9572-4fe4-fe70-cfd194f1c8cb"
      },
      "execution_count": null,
      "outputs": [
        {
          "output_type": "stream",
          "name": "stdout",
          "text": [
            "The accepted hypothesis: H1\n"
          ]
        },
        {
          "output_type": "display_data",
          "data": {
            "text/plain": [
              "<Figure size 864x864 with 4 Axes>"
            ],
            "image/png": "[encoded data removed]"
          },
          "metadata": {
            "needs_background": "light"
          }
        }
      ]
    },
    {
      "cell_type": "markdown",
      "source": [
        "adult male survival is less"
      ],
      "metadata": {
        "id": "-F08puMbqY6W"
      }
    },
    {
      "cell_type": "markdown",
      "source": [
        "### embarked"
      ],
      "metadata": {
        "id": "37al7jgCeluQ"
      }
    },
    {
      "cell_type": "code",
      "source": [
        "titanic_imputation[\"embarked\"].value_counts().plot(kind='pie',autopct=\"%.2f\")"
      ],
      "metadata": {
        "id": "gW_ReByiepRo",
        "colab": {
          "base_uri": "https://localhost:8080/",
          "height": 265
        },
        "outputId": "f1c9c33d-b063-47c4-e846-fbe1b93c9f90"
      },
      "execution_count": null,
      "outputs": [
        {
          "output_type": "execute_result",
          "data": {
            "text/plain": [
              "<matplotlib.axes._subplots.AxesSubplot at 0x7fed378ea190>"
            ]
          },
          "metadata": {},
          "execution_count": 74
        },
        {
          "output_type": "display_data",
          "data": {
            "text/plain": [
              "<Figure size 432x288 with 1 Axes>"
            ],
            "image/png": "[encoded data removed]"
          },
          "metadata": {}
        }
      ]
    },
    {
      "cell_type": "code",
      "source": [
        "statscore,contingency,pval = chi_square_test(titanic_imputation[\"embarked\"],titanic_imputation[\"survived\"])\n",
        "create_list('embarked',statscore)\n",
        "\n",
        "print(\"The accepted hypothesis:\",\"H1\" if pval <= 0.05 else \"H0\")\n",
        "\n",
        "plot_heatmap(titanic_imputation[\"embarked\"],titanic_imputation[\"survived\"])"
      ],
      "metadata": {
        "id": "5yzrFEtOqobD",
        "colab": {
          "base_uri": "https://localhost:8080/",
          "height": 747
        },
        "outputId": "1161e41e-e294-4f32-88e6-0069c0358b0f"
      },
      "execution_count": null,
      "outputs": [
        {
          "output_type": "stream",
          "name": "stdout",
          "text": [
            "The accepted hypothesis: H1\n"
          ]
        },
        {
          "output_type": "display_data",
          "data": {
            "text/plain": [
              "<Figure size 864x864 with 4 Axes>"
            ],
            "image/png": "[encoded data removed]"
          },
          "metadata": {
            "needs_background": "light"
          }
        }
      ]
    },
    {
      "cell_type": "markdown",
      "source": [
        "1. Survived or not, you mostly embarked from location 3(S).\n",
        "2. Boarding at Q has no effect. (Number of folks embarked from this location is also less).\n"
      ],
      "metadata": {
        "id": "I1gXvM56O1Ke"
      }
    },
    {
      "cell_type": "markdown",
      "source": [
        "### Binned age"
      ],
      "metadata": {
        "id": "-F2g1G5-kiKr"
      }
    },
    {
      "cell_type": "code",
      "source": [
        "titanic_imputation[\"binned_age\"].value_counts().plot(kind='pie',autopct=\"%.2f\")"
      ],
      "metadata": {
        "colab": {
          "base_uri": "https://localhost:8080/",
          "height": 265
        },
        "id": "yKIkn6kvklg4",
        "outputId": "31d9a7fc-d109-415d-a6d5-55aa6fd747a1"
      },
      "execution_count": null,
      "outputs": [
        {
          "output_type": "execute_result",
          "data": {
            "text/plain": [
              "<matplotlib.axes._subplots.AxesSubplot at 0x7fed37dfb110>"
            ]
          },
          "metadata": {},
          "execution_count": 76
        },
        {
          "output_type": "display_data",
          "data": {
            "text/plain": [
              "<Figure size 432x288 with 1 Axes>"
            ],
            "image/png": "[encoded data removed]"
          },
          "metadata": {}
        }
      ]
    },
    {
      "cell_type": "code",
      "source": [
        "statscore,contingency,pval = chi_square_test(titanic_imputation[\"binned_age\"],titanic_imputation[\"survived\"])\n",
        "create_list('binned_age',statscore)\n",
        "\n",
        "print(\"The accepted hypothesis:\",\"H1\" if pval <= 0.05 else \"H0\")\n",
        "\n",
        "plot_heatmap(titanic_imputation[\"binned_age\"],titanic_imputation[\"survived\"])"
      ],
      "metadata": {
        "colab": {
          "base_uri": "https://localhost:8080/",
          "height": 747
        },
        "id": "M0sgWFdVkqv8",
        "outputId": "bc3cef7c-c90e-4ed5-b07e-e351a9fc4db7"
      },
      "execution_count": null,
      "outputs": [
        {
          "output_type": "stream",
          "name": "stdout",
          "text": [
            "The accepted hypothesis: H1\n"
          ]
        },
        {
          "output_type": "display_data",
          "data": {
            "text/plain": [
              "<Figure size 864x864 with 4 Axes>"
            ],
            "image/png": "[encoded data removed]"
          },
          "metadata": {
            "needs_background": "light"
          }
        }
      ]
    },
    {
      "cell_type": "markdown",
      "source": [
        "### alone"
      ],
      "metadata": {
        "id": "FQrOGBKTewGy"
      }
    },
    {
      "cell_type": "code",
      "source": [
        "titanic_imputation[\"alone\"].value_counts().plot(kind='pie',autopct='%.2f')"
      ],
      "metadata": {
        "id": "Qp_7hG9heyPl",
        "colab": {
          "base_uri": "https://localhost:8080/",
          "height": 265
        },
        "outputId": "04a7f622-c2a8-440d-a37b-c7bc38be3e57"
      },
      "execution_count": null,
      "outputs": [
        {
          "output_type": "execute_result",
          "data": {
            "text/plain": [
              "<matplotlib.axes._subplots.AxesSubplot at 0x7fed37fc4550>"
            ]
          },
          "metadata": {},
          "execution_count": 78
        },
        {
          "output_type": "display_data",
          "data": {
            "text/plain": [
              "<Figure size 432x288 with 1 Axes>"
            ],
            "image/png": "[encoded data removed]"
          },
          "metadata": {}
        }
      ]
    },
    {
      "cell_type": "code",
      "source": [
        "statscore,contingency,pval = chi_square_test(titanic_imputation[\"alone\"],titanic_imputation[\"survived\"])\n",
        "create_list('alone',statscore)\n",
        "print(\"The accepted hypothesis:\",\"H1\" if pval <= 0.05 else \"H0\")\n",
        "\n",
        "plot_heatmap(titanic_imputation[\"alone\"],titanic_imputation[\"survived\"])"
      ],
      "metadata": {
        "id": "N-K4sXHYsNt3",
        "colab": {
          "base_uri": "https://localhost:8080/",
          "height": 747
        },
        "outputId": "0ddd6725-7d7b-4c8d-b948-aa9d80be53f5"
      },
      "execution_count": null,
      "outputs": [
        {
          "output_type": "stream",
          "name": "stdout",
          "text": [
            "The accepted hypothesis: H1\n"
          ]
        },
        {
          "output_type": "display_data",
          "data": {
            "text/plain": [
              "<Figure size 864x864 with 4 Axes>"
            ],
            "image/png": "[encoded data removed]"
          },
          "metadata": {
            "needs_background": "light"
          }
        }
      ]
    },
    {
      "cell_type": "markdown",
      "source": [
        "Being alone has reduced the survival possibility. However if the person is not alone, then its hard to determine the survival just based on it. "
      ],
      "metadata": {
        "id": "WsGCYe2iw0k9"
      }
    },
    {
      "cell_type": "markdown",
      "source": [
        "### Feature Analysis b/w input features"
      ],
      "metadata": {
        "id": "b0Sumansxvbj"
      }
    },
    {
      "cell_type": "markdown",
      "source": [
        "From above it might seem following - "
      ],
      "metadata": {
        "id": "7vPdYgpn7r8Z"
      }
    },
    {
      "cell_type": "markdown",
      "source": [
        "####1. alone, sibsp, parch can be related to one another."
      ],
      "metadata": {
        "id": "syUM3ptHx2tk"
      }
    },
    {
      "cell_type": "code",
      "source": [
        "##alone and sibsp\n",
        "s,contingency,pval = chi_square_test(titanic_imputation[\"alone\"],titanic_imputation[\"sibsp\"])\n",
        "\n",
        "print(\"The accepted hypothesis:\",\"H1\" if pval <= 0.05 else \"H0\")\n",
        "\n",
        "plot_heatmap(titanic_imputation[\"sibsp\"],titanic_imputation[\"alone\"])"
      ],
      "metadata": {
        "id": "zAimxTM_x1oB",
        "colab": {
          "base_uri": "https://localhost:8080/"
        },
        "outputId": "f84d77aa-0c34-4255-efbf-b7ad12f24653"
      },
      "execution_count": null,
      "outputs": [
        {
          "output_type": "stream",
          "name": "stdout",
          "text": [
            "The accepted hypothesis: H1\n"
          ]
        },
        {
          "output_type": "display_data",
          "data": {
            "text/plain": [
              "<Figure size 864x864 with 4 Axes>"
            ],
            "image/png": "[encoded data removed]"
          },
          "metadata": {
            "needs_background": "light"
          }
        }
      ]
    },
    {
      "cell_type": "markdown",
      "source": [
        "1. Given that the person is alone, then sibsp is 0\n",
        "2. Given that person is not alone, then high chance that he/she has 1 sibsp.\n",
        "3. Given that person is not alone, then he/she has more than 0 sibsp.\n"
      ],
      "metadata": {
        "id": "arW93rOqQ_oB"
      }
    },
    {
      "cell_type": "code",
      "source": [
        "##alone and parch\n",
        "s,contingency,pval = chi_square_test(titanic_imputation[\"alone\"],titanic_imputation[\"parch\"])\n",
        "\n",
        "print(\"The accepted hypothesis:\",\"H1\" if pval <= 0.05 else \"H0\")\n",
        "\n",
        "plot_heatmap(titanic_imputation[\"parch\"],titanic_imputation[\"alone\"])"
      ],
      "metadata": {
        "id": "cTuB5UXs3Tgp",
        "colab": {
          "base_uri": "https://localhost:8080/"
        },
        "outputId": "4884f08d-5cda-461d-e919-17beb19a8aa5"
      },
      "execution_count": null,
      "outputs": [
        {
          "output_type": "stream",
          "name": "stdout",
          "text": [
            "The accepted hypothesis: H1\n"
          ]
        },
        {
          "output_type": "display_data",
          "data": {
            "text/plain": [
              "<Figure size 864x864 with 4 Axes>"
            ],
            "image/png": "[encoded data removed]"
          },
          "metadata": {
            "needs_background": "light"
          }
        }
      ]
    },
    {
      "cell_type": "markdown",
      "source": [
        "1. Given that the person is alone, then parch is 0\n",
        "2. Given that person is not alone, then high chance that he/she has 0,1,2 parch.\n",
        "3. Given that person is not alone, then he/she has more than 0 sibsp."
      ],
      "metadata": {
        "id": "d_pVN4aDSkyS"
      }
    },
    {
      "cell_type": "code",
      "source": [
        "##parch and sibsp\n",
        "s,contingency,pval = chi_square_test(titanic_imputation[\"parch\"],titanic_imputation[\"sibsp\"])\n",
        "\n",
        "print(\"The accepted hypothesis:\",\"H1\" if pval <= 0.05 else \"H0\")\n",
        "\n",
        "plot_heatmap(titanic_imputation[\"parch\"],titanic_imputation[\"sibsp\"])"
      ],
      "metadata": {
        "id": "oK810FKp6dkg",
        "colab": {
          "base_uri": "https://localhost:8080/"
        },
        "outputId": "44b32011-2fc2-4988-8f28-b9db97d53df3"
      },
      "execution_count": null,
      "outputs": [
        {
          "output_type": "stream",
          "name": "stdout",
          "text": [
            "The accepted hypothesis: H1\n"
          ]
        },
        {
          "output_type": "display_data",
          "data": {
            "text/plain": [
              "<Figure size 864x864 with 4 Axes>"
            ],
            "image/png": "[encoded data removed]"
          },
          "metadata": {
            "needs_background": "light"
          }
        }
      ]
    },
    {
      "cell_type": "markdown",
      "source": [
        "####2. sex, who and adult male can be related to one another."
      ],
      "metadata": {
        "id": "0m0JfBgC8lkc"
      }
    },
    {
      "cell_type": "code",
      "source": [
        "##sex and who\n",
        "s,contingency,pval = chi_square_test(titanic_imputation[\"sex\"],titanic_imputation[\"who\"])\n",
        "\n",
        "print(\"The accepted hypothesis:\",\"H1\" if pval <= 0.05 else \"H0\")\n",
        "\n",
        "plot_heatmap(titanic_imputation[\"who\"],titanic_imputation[\"sex\"])"
      ],
      "metadata": {
        "id": "gHSLZIYm8nMt",
        "colab": {
          "base_uri": "https://localhost:8080/"
        },
        "outputId": "d3f8c82d-ab18-414f-ead1-36f9c43114db"
      },
      "execution_count": null,
      "outputs": [
        {
          "output_type": "stream",
          "name": "stdout",
          "text": [
            "The accepted hypothesis: H1\n"
          ]
        },
        {
          "output_type": "display_data",
          "data": {
            "text/plain": [
              "<Figure size 864x864 with 4 Axes>"
            ],
            "image/png": "[encoded data removed]"
          },
          "metadata": {
            "needs_background": "light"
          }
        }
      ]
    },
    {
      "cell_type": "code",
      "source": [
        "##sex and adult_male\n",
        "s,contingency,pval = chi_square_test(titanic_imputation[\"sex\"],titanic_imputation[\"adult_male\"])\n",
        "\n",
        "print(\"The accepted hypothesis:\",\"H1\" if pval <= 0.05 else \"H0\")\n",
        "\n",
        "plot_heatmap(titanic_imputation[\"sex\"],titanic_imputation[\"adult_male\"])"
      ],
      "metadata": {
        "id": "BB73cPkc9FJ6",
        "colab": {
          "base_uri": "https://localhost:8080/"
        },
        "outputId": "084bbb82-99c3-422c-9932-6d58d8ea7c13"
      },
      "execution_count": null,
      "outputs": [
        {
          "output_type": "stream",
          "name": "stdout",
          "text": [
            "The accepted hypothesis: H1\n"
          ]
        },
        {
          "output_type": "display_data",
          "data": {
            "text/plain": [
              "<Figure size 864x864 with 4 Axes>"
            ],
            "image/png": "[encoded data removed]"
          },
          "metadata": {
            "needs_background": "light"
          }
        }
      ]
    },
    {
      "cell_type": "code",
      "source": [
        "##who and adult_male\n",
        "s,contingency,pval = chi_square_test(titanic_imputation[\"who\"],titanic_imputation[\"adult_male\"])\n",
        "\n",
        "print(\"The accepted hypothesis:\",\"H1\" if pval <= 0.05 else \"H0\")\n",
        "\n",
        "plot_heatmap(titanic_imputation[\"who\"],titanic_imputation[\"adult_male\"])"
      ],
      "metadata": {
        "id": "8X4vZgCy9PKy",
        "colab": {
          "base_uri": "https://localhost:8080/"
        },
        "outputId": "c30f5aa1-2eac-41a1-916b-beeb6d6ff3a1"
      },
      "execution_count": null,
      "outputs": [
        {
          "output_type": "stream",
          "name": "stdout",
          "text": [
            "The accepted hypothesis: H1\n"
          ]
        },
        {
          "output_type": "display_data",
          "data": {
            "text/plain": [
              "<Figure size 864x864 with 4 Axes>"
            ],
            "image/png": "[encoded data removed]"
          },
          "metadata": {
            "needs_background": "light"
          }
        }
      ]
    },
    {
      "cell_type": "markdown",
      "source": [
        "if adult male is 1, then its sure that who can only be male."
      ],
      "metadata": {
        "id": "r4UmWCqJBBjG"
      }
    },
    {
      "cell_type": "markdown",
      "source": [
        "## Final Observations"
      ],
      "metadata": {
        "id": "dqIXDvPNGi6o"
      }
    },
    {
      "cell_type": "markdown",
      "source": [
        "From above, my observations says -\n",
        "1. pclass (class 2 mostly) does not help in determining survival.\n",
        "2. survival is hard to predict using sibsp and parch. (Relation is not very clear including for the majority category)\n",
        "3. Being alone also has doesn't have great impact on survival. \n",
        "4. embarked is not clear with respect to location 2. (Q) \n",
        "5. From the heatmap in numerical features, it is seen that the age does not have big impact on survival. "
      ],
      "metadata": {
        "id": "O5BrXVZrFMx0"
      }
    },
    {
      "cell_type": "markdown",
      "source": [
        "We can run the feature importance test based on these and then come to conclusion on the above mentioned points. "
      ],
      "metadata": {
        "id": "CjyEwvfTGgpe"
      }
    },
    {
      "cell_type": "code",
      "source": [
        "print(\"Statistic score of the features under observation:\\n\",stat_score)"
      ],
      "metadata": {
        "id": "snpd0VoehjUP",
        "colab": {
          "base_uri": "https://localhost:8080/"
        },
        "outputId": "af032f00-8f65-4271-f378-827bbf1065e2"
      },
      "execution_count": null,
      "outputs": [
        {
          "output_type": "stream",
          "name": "stdout",
          "text": [
            "Statistic score of the features under observation:\n",
            " [{'age': 4.640766073735747}, {'fare': 93.27652830453901}, {'pclass': 102.88898875696056}, {'sex': 260.71702016732104}, {'sibsp': 37.2717929152043}, {'parch': 27.925784060236168}, {'who': 283.923050324233}, {'adult_male': 274.1753554159945}, {'embarked': 25.964452881874784}, {'binned_age': 16.340178802658976}, {'alone': 36.00051446773865}]\n"
          ]
        }
      ]
    },
    {
      "cell_type": "markdown",
      "source": [
        "From the scores above, our observations seems to be right. So we drop those columns."
      ],
      "metadata": {
        "id": "0Z8hNGkNJWjQ"
      }
    },
    {
      "cell_type": "code",
      "source": [
        "titanic_f = titanic_imputation.drop(['sibsp','parch','embarked','alone','age'],axis=1)"
      ],
      "metadata": {
        "id": "1k71wmHNBKos"
      },
      "execution_count": null,
      "outputs": []
    },
    {
      "cell_type": "code",
      "source": [
        "titanic_imputation"
      ],
      "metadata": {
        "id": "XyCxR8GihmaE",
        "colab": {
          "base_uri": "https://localhost:8080/",
          "height": 424
        },
        "outputId": "c9f0c00d-0d14-4b97-e80c-70c001730508"
      },
      "execution_count": null,
      "outputs": [
        {
          "output_type": "execute_result",
          "data": {
            "text/plain": [
              "     survived  pclass  sex   age  sibsp  parch     fare  embarked  who  \\\n",
              "0         0.0     3.0  1.0  22.0    1.0    0.0   7.2500       3.0  1.0   \n",
              "1         1.0     1.0  0.0  38.0    1.0    0.0  71.2833       1.0  0.0   \n",
              "2         1.0     3.0  0.0  26.0    0.0    0.0   7.9250       3.0  0.0   \n",
              "3         1.0     1.0  0.0  35.0    1.0    0.0  53.1000       3.0  0.0   \n",
              "4         0.0     3.0  1.0  35.0    0.0    0.0   8.0500       3.0  1.0   \n",
              "..        ...     ...  ...   ...    ...    ...      ...       ...  ...   \n",
              "886       0.0     2.0  1.0  27.0    0.0    0.0  13.0000       3.0  1.0   \n",
              "887       1.0     1.0  0.0  19.0    0.0    0.0  30.0000       3.0  0.0   \n",
              "888       0.0     3.0  0.0  24.0    1.0    2.0  23.4500       3.0  0.0   \n",
              "889       1.0     1.0  1.0  26.0    0.0    0.0  30.0000       1.0  1.0   \n",
              "890       0.0     3.0  1.0  32.0    0.0    0.0   7.7500       2.0  1.0   \n",
              "\n",
              "     adult_male  alone  binned_age  \n",
              "0           1.0    0.0           3  \n",
              "1           0.0    0.0           4  \n",
              "2           0.0    1.0           3  \n",
              "3           0.0    0.0           4  \n",
              "4           1.0    1.0           4  \n",
              "..          ...    ...         ...  \n",
              "886         1.0    1.0           3  \n",
              "887         0.0    1.0           2  \n",
              "888         0.0    0.0           3  \n",
              "889         1.0    1.0           3  \n",
              "890         1.0    1.0           4  \n",
              "\n",
              "[891 rows x 12 columns]"
            ],
            "text/html": [
              "\n",
              "  <div id=\"df-5b513e27-d74f-4c7d-aef7-dd6ecc42c841\">\n",
              "    <div class=\"colab-df-container\">\n",
              "      <div>\n",
              "<style scoped>\n",
              "    .dataframe tbody tr th:only-of-type {\n",
              "        vertical-align: middle;\n",
              "    }\n",
              "\n",
              "    .dataframe tbody tr th {\n",
              "        vertical-align: top;\n",
              "    }\n",
              "\n",
              "    .dataframe thead th {\n",
              "        text-align: right;\n",
              "    }\n",
              "</style>\n",
              "<table border=\"1\" class=\"dataframe\">\n",
              "  <thead>\n",
              "    <tr style=\"text-align: right;\">\n",
              "      <th></th>\n",
              "      <th>survived</th>\n",
              "      <th>pclass</th>\n",
              "      <th>sex</th>\n",
              "      <th>age</th>\n",
              "      <th>sibsp</th>\n",
              "      <th>parch</th>\n",
              "      <th>fare</th>\n",
              "      <th>embarked</th>\n",
              "      <th>who</th>\n",
              "      <th>adult_male</th>\n",
              "      <th>alone</th>\n",
              "      <th>binned_age</th>\n",
              "    </tr>\n",
              "  </thead>\n",
              "  <tbody>\n",
              "    <tr>\n",
              "      <th>0</th>\n",
              "      <td>0.0</td>\n",
              "      <td>3.0</td>\n",
              "      <td>1.0</td>\n",
              "      <td>22.0</td>\n",
              "      <td>1.0</td>\n",
              "      <td>0.0</td>\n",
              "      <td>7.2500</td>\n",
              "      <td>3.0</td>\n",
              "      <td>1.0</td>\n",
              "      <td>1.0</td>\n",
              "      <td>0.0</td>\n",
              "      <td>3</td>\n",
              "    </tr>\n",
              "    <tr>\n",
              "      <th>1</th>\n",
              "      <td>1.0</td>\n",
              "      <td>1.0</td>\n",
              "      <td>0.0</td>\n",
              "      <td>38.0</td>\n",
              "      <td>1.0</td>\n",
              "      <td>0.0</td>\n",
              "      <td>71.2833</td>\n",
              "      <td>1.0</td>\n",
              "      <td>0.0</td>\n",
              "      <td>0.0</td>\n",
              "      <td>0.0</td>\n",
              "      <td>4</td>\n",
              "    </tr>\n",
              "    <tr>\n",
              "      <th>2</th>\n",
              "      <td>1.0</td>\n",
              "      <td>3.0</td>\n",
              "      <td>0.0</td>\n",
              "      <td>26.0</td>\n",
              "      <td>0.0</td>\n",
              "      <td>0.0</td>\n",
              "      <td>7.9250</td>\n",
              "      <td>3.0</td>\n",
              "      <td>0.0</td>\n",
              "      <td>0.0</td>\n",
              "      <td>1.0</td>\n",
              "      <td>3</td>\n",
              "    </tr>\n",
              "    <tr>\n",
              "      <th>3</th>\n",
              "      <td>1.0</td>\n",
              "      <td>1.0</td>\n",
              "      <td>0.0</td>\n",
              "      <td>35.0</td>\n",
              "      <td>1.0</td>\n",
              "      <td>0.0</td>\n",
              "      <td>53.1000</td>\n",
              "      <td>3.0</td>\n",
              "      <td>0.0</td>\n",
              "      <td>0.0</td>\n",
              "      <td>0.0</td>\n",
              "      <td>4</td>\n",
              "    </tr>\n",
              "    <tr>\n",
              "      <th>4</th>\n",
              "      <td>0.0</td>\n",
              "      <td>3.0</td>\n",
              "      <td>1.0</td>\n",
              "      <td>35.0</td>\n",
              "      <td>0.0</td>\n",
              "      <td>0.0</td>\n",
              "      <td>8.0500</td>\n",
              "      <td>3.0</td>\n",
              "      <td>1.0</td>\n",
              "      <td>1.0</td>\n",
              "      <td>1.0</td>\n",
              "      <td>4</td>\n",
              "    </tr>\n",
              "    <tr>\n",
              "      <th>...</th>\n",
              "      <td>...</td>\n",
              "      <td>...</td>\n",
              "      <td>...</td>\n",
              "      <td>...</td>\n",
              "      <td>...</td>\n",
              "      <td>...</td>\n",
              "      <td>...</td>\n",
              "      <td>...</td>\n",
              "      <td>...</td>\n",
              "      <td>...</td>\n",
              "      <td>...</td>\n",
              "      <td>...</td>\n",
              "    </tr>\n",
              "    <tr>\n",
              "      <th>886</th>\n",
              "      <td>0.0</td>\n",
              "      <td>2.0</td>\n",
              "      <td>1.0</td>\n",
              "      <td>27.0</td>\n",
              "      <td>0.0</td>\n",
              "      <td>0.0</td>\n",
              "      <td>13.0000</td>\n",
              "      <td>3.0</td>\n",
              "      <td>1.0</td>\n",
              "      <td>1.0</td>\n",
              "      <td>1.0</td>\n",
              "      <td>3</td>\n",
              "    </tr>\n",
              "    <tr>\n",
              "      <th>887</th>\n",
              "      <td>1.0</td>\n",
              "      <td>1.0</td>\n",
              "      <td>0.0</td>\n",
              "      <td>19.0</td>\n",
              "      <td>0.0</td>\n",
              "      <td>0.0</td>\n",
              "      <td>30.0000</td>\n",
              "      <td>3.0</td>\n",
              "      <td>0.0</td>\n",
              "      <td>0.0</td>\n",
              "      <td>1.0</td>\n",
              "      <td>2</td>\n",
              "    </tr>\n",
              "    <tr>\n",
              "      <th>888</th>\n",
              "      <td>0.0</td>\n",
              "      <td>3.0</td>\n",
              "      <td>0.0</td>\n",
              "      <td>24.0</td>\n",
              "      <td>1.0</td>\n",
              "      <td>2.0</td>\n",
              "      <td>23.4500</td>\n",
              "      <td>3.0</td>\n",
              "      <td>0.0</td>\n",
              "      <td>0.0</td>\n",
              "      <td>0.0</td>\n",
              "      <td>3</td>\n",
              "    </tr>\n",
              "    <tr>\n",
              "      <th>889</th>\n",
              "      <td>1.0</td>\n",
              "      <td>1.0</td>\n",
              "      <td>1.0</td>\n",
              "      <td>26.0</td>\n",
              "      <td>0.0</td>\n",
              "      <td>0.0</td>\n",
              "      <td>30.0000</td>\n",
              "      <td>1.0</td>\n",
              "      <td>1.0</td>\n",
              "      <td>1.0</td>\n",
              "      <td>1.0</td>\n",
              "      <td>3</td>\n",
              "    </tr>\n",
              "    <tr>\n",
              "      <th>890</th>\n",
              "      <td>0.0</td>\n",
              "      <td>3.0</td>\n",
              "      <td>1.0</td>\n",
              "      <td>32.0</td>\n",
              "      <td>0.0</td>\n",
              "      <td>0.0</td>\n",
              "      <td>7.7500</td>\n",
              "      <td>2.0</td>\n",
              "      <td>1.0</td>\n",
              "      <td>1.0</td>\n",
              "      <td>1.0</td>\n",
              "      <td>4</td>\n",
              "    </tr>\n",
              "  </tbody>\n",
              "</table>\n",
              "<p>891 rows × 12 columns</p>\n",
              "</div>\n",
              "      <button class=\"colab-df-convert\" onclick=\"convertToInteractive('df-5b513e27-d74f-4c7d-aef7-dd6ecc42c841')\"\n",
              "              title=\"Convert this dataframe to an interactive table.\"\n",
              "              style=\"display:none;\">\n",
              "        \n",
              "  <svg xmlns=\"http://www.w3.org/2000/svg\" height=\"24px\"viewBox=\"0 0 24 24\"\n",
              "       width=\"24px\">\n",
              "    <path d=\"M0 0h24v24H0V0z\" fill=\"none\"/>\n",
              "    <path d=\"M18.56 5.44l.94 2.06.94-2.06 2.06-.94-2.06-.94-.94-2.06-.94 2.06-2.06.94zm-11 1L8.5 8.5l.94-2.06 2.06-.94-2.06-.94L8.5 2.5l-.94 2.06-2.06.94zm10 10l.94 2.06.94-2.06 2.06-.94-2.06-.94-.94-2.06-.94 2.06-2.06.94z\"/><path d=\"M17.41 7.96l-1.37-1.37c-.4-.4-.92-.59-1.43-.59-.52 0-1.04.2-1.43.59L10.3 9.45l-7.72 7.72c-.78.78-.78 2.05 0 2.83L4 21.41c.39.39.9.59 1.41.59.51 0 1.02-.2 1.41-.59l7.78-7.78 2.81-2.81c.8-.78.8-2.07 0-2.86zM5.41 20L4 18.59l7.72-7.72 1.47 1.35L5.41 20z\"/>\n",
              "  </svg>\n",
              "      </button>\n",
              "      \n",
              "  <style>\n",
              "    .colab-df-container {\n",
              "      display:flex;\n",
              "      flex-wrap:wrap;\n",
              "      gap: 12px;\n",
              "    }\n",
              "\n",
              "    .colab-df-convert {\n",
              "      background-color: #E8F0FE;\n",
              "      border: none;\n",
              "      border-radius: 50%;\n",
              "      cursor: pointer;\n",
              "      display: none;\n",
              "      fill: #1967D2;\n",
              "      height: 32px;\n",
              "      padding: 0 0 0 0;\n",
              "      width: 32px;\n",
              "    }\n",
              "\n",
              "    .colab-df-convert:hover {\n",
              "      background-color: #E2EBFA;\n",
              "      box-shadow: 0px 1px 2px rgba(60, 64, 67, 0.3), 0px 1px 3px 1px rgba(60, 64, 67, 0.15);\n",
              "      fill: #174EA6;\n",
              "    }\n",
              "\n",
              "    [theme=dark] .colab-df-convert {\n",
              "      background-color: #3B4455;\n",
              "      fill: #D2E3FC;\n",
              "    }\n",
              "\n",
              "    [theme=dark] .colab-df-convert:hover {\n",
              "      background-color: #434B5C;\n",
              "      box-shadow: 0px 1px 3px 1px rgba(0, 0, 0, 0.15);\n",
              "      filter: drop-shadow(0px 1px 2px rgba(0, 0, 0, 0.3));\n",
              "      fill: #FFFFFF;\n",
              "    }\n",
              "  </style>\n",
              "\n",
              "      <script>\n",
              "        const buttonEl =\n",
              "          document.querySelector('#df-5b513e27-d74f-4c7d-aef7-dd6ecc42c841 button.colab-df-convert');\n",
              "        buttonEl.style.display =\n",
              "          google.colab.kernel.accessAllowed ? 'block' : 'none';\n",
              "\n",
              "        async function convertToInteractive(key) {\n",
              "          const element = document.querySelector('#df-5b513e27-d74f-4c7d-aef7-dd6ecc42c841');\n",
              "          const dataTable =\n",
              "            await google.colab.kernel.invokeFunction('convertToInteractive',\n",
              "                                                     [key], {});\n",
              "          if (!dataTable) return;\n",
              "\n",
              "          const docLinkHtml = 'Like what you see? Visit the ' +\n",
              "            '<a target=\"_blank\" href=https://colab.research.google.com/notebooks/data_table.ipynb>data table notebook</a>'\n",
              "            + ' to learn more about interactive tables.';\n",
              "          element.innerHTML = '';\n",
              "          dataTable['output_type'] = 'display_data';\n",
              "          await google.colab.output.renderOutput(dataTable, element);\n",
              "          const docLink = document.createElement('div');\n",
              "          docLink.innerHTML = docLinkHtml;\n",
              "          element.appendChild(docLink);\n",
              "        }\n",
              "      </script>\n",
              "    </div>\n",
              "  </div>\n",
              "  "
            ]
          },
          "metadata": {},
          "execution_count": 88
        }
      ]
    },
    {
      "cell_type": "code",
      "source": [
        "titanic_f"
      ],
      "metadata": {
        "id": "GSvPKJnQIqtT",
        "colab": {
          "base_uri": "https://localhost:8080/",
          "height": 424
        },
        "outputId": "e25ee569-fa22-4956-f510-caf554724b22"
      },
      "execution_count": null,
      "outputs": [
        {
          "output_type": "execute_result",
          "data": {
            "text/plain": [
              "     survived  pclass  sex     fare  who  adult_male  binned_age\n",
              "0         0.0     3.0  1.0   7.2500  1.0         1.0           3\n",
              "1         1.0     1.0  0.0  71.2833  0.0         0.0           4\n",
              "2         1.0     3.0  0.0   7.9250  0.0         0.0           3\n",
              "3         1.0     1.0  0.0  53.1000  0.0         0.0           4\n",
              "4         0.0     3.0  1.0   8.0500  1.0         1.0           4\n",
              "..        ...     ...  ...      ...  ...         ...         ...\n",
              "886       0.0     2.0  1.0  13.0000  1.0         1.0           3\n",
              "887       1.0     1.0  0.0  30.0000  0.0         0.0           2\n",
              "888       0.0     3.0  0.0  23.4500  0.0         0.0           3\n",
              "889       1.0     1.0  1.0  30.0000  1.0         1.0           3\n",
              "890       0.0     3.0  1.0   7.7500  1.0         1.0           4\n",
              "\n",
              "[891 rows x 7 columns]"
            ],
            "text/html": [
              "\n",
              "  <div id=\"df-449b851a-8485-4b71-b75c-c419eae8c1b1\">\n",
              "    <div class=\"colab-df-container\">\n",
              "      <div>\n",
              "<style scoped>\n",
              "    .dataframe tbody tr th:only-of-type {\n",
              "        vertical-align: middle;\n",
              "    }\n",
              "\n",
              "    .dataframe tbody tr th {\n",
              "        vertical-align: top;\n",
              "    }\n",
              "\n",
              "    .dataframe thead th {\n",
              "        text-align: right;\n",
              "    }\n",
              "</style>\n",
              "<table border=\"1\" class=\"dataframe\">\n",
              "  <thead>\n",
              "    <tr style=\"text-align: right;\">\n",
              "      <th></th>\n",
              "      <th>survived</th>\n",
              "      <th>pclass</th>\n",
              "      <th>sex</th>\n",
              "      <th>fare</th>\n",
              "      <th>who</th>\n",
              "      <th>adult_male</th>\n",
              "      <th>binned_age</th>\n",
              "    </tr>\n",
              "  </thead>\n",
              "  <tbody>\n",
              "    <tr>\n",
              "      <th>0</th>\n",
              "      <td>0.0</td>\n",
              "      <td>3.0</td>\n",
              "      <td>1.0</td>\n",
              "      <td>7.2500</td>\n",
              "      <td>1.0</td>\n",
              "      <td>1.0</td>\n",
              "      <td>3</td>\n",
              "    </tr>\n",
              "    <tr>\n",
              "      <th>1</th>\n",
              "      <td>1.0</td>\n",
              "      <td>1.0</td>\n",
              "      <td>0.0</td>\n",
              "      <td>71.2833</td>\n",
              "      <td>0.0</td>\n",
              "      <td>0.0</td>\n",
              "      <td>4</td>\n",
              "    </tr>\n",
              "    <tr>\n",
              "      <th>2</th>\n",
              "      <td>1.0</td>\n",
              "      <td>3.0</td>\n",
              "      <td>0.0</td>\n",
              "      <td>7.9250</td>\n",
              "      <td>0.0</td>\n",
              "      <td>0.0</td>\n",
              "      <td>3</td>\n",
              "    </tr>\n",
              "    <tr>\n",
              "      <th>3</th>\n",
              "      <td>1.0</td>\n",
              "      <td>1.0</td>\n",
              "      <td>0.0</td>\n",
              "      <td>53.1000</td>\n",
              "      <td>0.0</td>\n",
              "      <td>0.0</td>\n",
              "      <td>4</td>\n",
              "    </tr>\n",
              "    <tr>\n",
              "      <th>4</th>\n",
              "      <td>0.0</td>\n",
              "      <td>3.0</td>\n",
              "      <td>1.0</td>\n",
              "      <td>8.0500</td>\n",
              "      <td>1.0</td>\n",
              "      <td>1.0</td>\n",
              "      <td>4</td>\n",
              "    </tr>\n",
              "    <tr>\n",
              "      <th>...</th>\n",
              "      <td>...</td>\n",
              "      <td>...</td>\n",
              "      <td>...</td>\n",
              "      <td>...</td>\n",
              "      <td>...</td>\n",
              "      <td>...</td>\n",
              "      <td>...</td>\n",
              "    </tr>\n",
              "    <tr>\n",
              "      <th>886</th>\n",
              "      <td>0.0</td>\n",
              "      <td>2.0</td>\n",
              "      <td>1.0</td>\n",
              "      <td>13.0000</td>\n",
              "      <td>1.0</td>\n",
              "      <td>1.0</td>\n",
              "      <td>3</td>\n",
              "    </tr>\n",
              "    <tr>\n",
              "      <th>887</th>\n",
              "      <td>1.0</td>\n",
              "      <td>1.0</td>\n",
              "      <td>0.0</td>\n",
              "      <td>30.0000</td>\n",
              "      <td>0.0</td>\n",
              "      <td>0.0</td>\n",
              "      <td>2</td>\n",
              "    </tr>\n",
              "    <tr>\n",
              "      <th>888</th>\n",
              "      <td>0.0</td>\n",
              "      <td>3.0</td>\n",
              "      <td>0.0</td>\n",
              "      <td>23.4500</td>\n",
              "      <td>0.0</td>\n",
              "      <td>0.0</td>\n",
              "      <td>3</td>\n",
              "    </tr>\n",
              "    <tr>\n",
              "      <th>889</th>\n",
              "      <td>1.0</td>\n",
              "      <td>1.0</td>\n",
              "      <td>1.0</td>\n",
              "      <td>30.0000</td>\n",
              "      <td>1.0</td>\n",
              "      <td>1.0</td>\n",
              "      <td>3</td>\n",
              "    </tr>\n",
              "    <tr>\n",
              "      <th>890</th>\n",
              "      <td>0.0</td>\n",
              "      <td>3.0</td>\n",
              "      <td>1.0</td>\n",
              "      <td>7.7500</td>\n",
              "      <td>1.0</td>\n",
              "      <td>1.0</td>\n",
              "      <td>4</td>\n",
              "    </tr>\n",
              "  </tbody>\n",
              "</table>\n",
              "<p>891 rows × 7 columns</p>\n",
              "</div>\n",
              "      <button class=\"colab-df-convert\" onclick=\"convertToInteractive('df-449b851a-8485-4b71-b75c-c419eae8c1b1')\"\n",
              "              title=\"Convert this dataframe to an interactive table.\"\n",
              "              style=\"display:none;\">\n",
              "        \n",
              "  <svg xmlns=\"http://www.w3.org/2000/svg\" height=\"24px\"viewBox=\"0 0 24 24\"\n",
              "       width=\"24px\">\n",
              "    <path d=\"M0 0h24v24H0V0z\" fill=\"none\"/>\n",
              "    <path d=\"M18.56 5.44l.94 2.06.94-2.06 2.06-.94-2.06-.94-.94-2.06-.94 2.06-2.06.94zm-11 1L8.5 8.5l.94-2.06 2.06-.94-2.06-.94L8.5 2.5l-.94 2.06-2.06.94zm10 10l.94 2.06.94-2.06 2.06-.94-2.06-.94-.94-2.06-.94 2.06-2.06.94z\"/><path d=\"M17.41 7.96l-1.37-1.37c-.4-.4-.92-.59-1.43-.59-.52 0-1.04.2-1.43.59L10.3 9.45l-7.72 7.72c-.78.78-.78 2.05 0 2.83L4 21.41c.39.39.9.59 1.41.59.51 0 1.02-.2 1.41-.59l7.78-7.78 2.81-2.81c.8-.78.8-2.07 0-2.86zM5.41 20L4 18.59l7.72-7.72 1.47 1.35L5.41 20z\"/>\n",
              "  </svg>\n",
              "      </button>\n",
              "      \n",
              "  <style>\n",
              "    .colab-df-container {\n",
              "      display:flex;\n",
              "      flex-wrap:wrap;\n",
              "      gap: 12px;\n",
              "    }\n",
              "\n",
              "    .colab-df-convert {\n",
              "      background-color: #E8F0FE;\n",
              "      border: none;\n",
              "      border-radius: 50%;\n",
              "      cursor: pointer;\n",
              "      display: none;\n",
              "      fill: #1967D2;\n",
              "      height: 32px;\n",
              "      padding: 0 0 0 0;\n",
              "      width: 32px;\n",
              "    }\n",
              "\n",
              "    .colab-df-convert:hover {\n",
              "      background-color: #E2EBFA;\n",
              "      box-shadow: 0px 1px 2px rgba(60, 64, 67, 0.3), 0px 1px 3px 1px rgba(60, 64, 67, 0.15);\n",
              "      fill: #174EA6;\n",
              "    }\n",
              "\n",
              "    [theme=dark] .colab-df-convert {\n",
              "      background-color: #3B4455;\n",
              "      fill: #D2E3FC;\n",
              "    }\n",
              "\n",
              "    [theme=dark] .colab-df-convert:hover {\n",
              "      background-color: #434B5C;\n",
              "      box-shadow: 0px 1px 3px 1px rgba(0, 0, 0, 0.15);\n",
              "      filter: drop-shadow(0px 1px 2px rgba(0, 0, 0, 0.3));\n",
              "      fill: #FFFFFF;\n",
              "    }\n",
              "  </style>\n",
              "\n",
              "      <script>\n",
              "        const buttonEl =\n",
              "          document.querySelector('#df-449b851a-8485-4b71-b75c-c419eae8c1b1 button.colab-df-convert');\n",
              "        buttonEl.style.display =\n",
              "          google.colab.kernel.accessAllowed ? 'block' : 'none';\n",
              "\n",
              "        async function convertToInteractive(key) {\n",
              "          const element = document.querySelector('#df-449b851a-8485-4b71-b75c-c419eae8c1b1');\n",
              "          const dataTable =\n",
              "            await google.colab.kernel.invokeFunction('convertToInteractive',\n",
              "                                                     [key], {});\n",
              "          if (!dataTable) return;\n",
              "\n",
              "          const docLinkHtml = 'Like what you see? Visit the ' +\n",
              "            '<a target=\"_blank\" href=https://colab.research.google.com/notebooks/data_table.ipynb>data table notebook</a>'\n",
              "            + ' to learn more about interactive tables.';\n",
              "          element.innerHTML = '';\n",
              "          dataTable['output_type'] = 'display_data';\n",
              "          await google.colab.output.renderOutput(dataTable, element);\n",
              "          const docLink = document.createElement('div');\n",
              "          docLink.innerHTML = docLinkHtml;\n",
              "          element.appendChild(docLink);\n",
              "        }\n",
              "      </script>\n",
              "    </div>\n",
              "  </div>\n",
              "  "
            ]
          },
          "metadata": {},
          "execution_count": 89
        }
      ]
    }
  ]
}